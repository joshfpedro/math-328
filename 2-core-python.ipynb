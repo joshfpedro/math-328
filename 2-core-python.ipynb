{
  "nbformat": 4,
  "nbformat_minor": 0,
  "metadata": {
    "colab": {
      "provenance": [],
      "authorship_tag": "ABX9TyOQHdooSPMX8eEu+J5XGe2x",
      "include_colab_link": true
    },
    "kernelspec": {
      "name": "python3",
      "display_name": "Python 3"
    },
    "language_info": {
      "name": "python"
    }
  },
  "cells": [
    {
      "cell_type": "markdown",
      "metadata": {
        "id": "view-in-github",
        "colab_type": "text"
      },
      "source": [
        "<a href=\"https://colab.research.google.com/github/joshfpedro/math-328/blob/main/2-core-python.ipynb\" target=\"_parent\"><img src=\"https://colab.research.google.com/assets/colab-badge.svg\" alt=\"Open In Colab\"/></a>"
      ]
    },
    {
      "cell_type": "markdown",
      "source": [
        "# Core Python Basics"
      ],
      "metadata": {
        "id": "RRF7oUiYR6vM"
      }
    },
    {
      "cell_type": "markdown",
      "source": [
        "## Variable Types and Casting"
      ],
      "metadata": {
        "id": "8q6ykKRzSAGR"
      }
    },
    {
      "cell_type": "code",
      "execution_count": 33,
      "metadata": {
        "id": "gnT7qMYPQtES",
        "colab": {
          "base_uri": "https://localhost:8080/"
        },
        "outputId": "1398c283-c3e8-4b83-e1a8-1a1940dbb800"
      },
      "outputs": [
        {
          "output_type": "stream",
          "name": "stdout",
          "text": [
            "<class 'int'> <class 'float'> <class 'str'> <class 'bool'>\n",
            "2 7.0 7\n"
          ]
        }
      ],
      "source": [
        "x = 7        # int\n",
        "y = 2.5      # float\n",
        "s = \"328C\"    # str\n",
        "b = True     # bool\n",
        "\n",
        "print(type(x), type(y), type(s), type(b))\n",
        "\n",
        "# casting\n",
        "print(int(y), float(x), str(x))"
      ]
    },
    {
      "cell_type": "code",
      "source": [
        "int(y)"
      ],
      "metadata": {
        "colab": {
          "base_uri": "https://localhost:8080/"
        },
        "id": "HLdBQB1oSfdY",
        "outputId": "a4aedb83-55f6-4843-a65a-d7d5b1f07833"
      },
      "execution_count": 34,
      "outputs": [
        {
          "output_type": "execute_result",
          "data": {
            "text/plain": [
              "2"
            ]
          },
          "metadata": {},
          "execution_count": 34
        }
      ]
    },
    {
      "cell_type": "code",
      "source": [
        "float(x)"
      ],
      "metadata": {
        "colab": {
          "base_uri": "https://localhost:8080/"
        },
        "id": "SFPenEiASscz",
        "outputId": "aaf23abc-ce44-4fe5-f74b-30981b43089b"
      },
      "execution_count": 35,
      "outputs": [
        {
          "output_type": "execute_result",
          "data": {
            "text/plain": [
              "7.0"
            ]
          },
          "metadata": {},
          "execution_count": 35
        }
      ]
    },
    {
      "cell_type": "code",
      "source": [
        "str(x)"
      ],
      "metadata": {
        "colab": {
          "base_uri": "https://localhost:8080/",
          "height": 35
        },
        "id": "j9JZlZYFSvjJ",
        "outputId": "b862fb52-2ee5-4a71-9c92-b743bb6ce5cc"
      },
      "execution_count": 36,
      "outputs": [
        {
          "output_type": "execute_result",
          "data": {
            "text/plain": [
              "'7'"
            ],
            "application/vnd.google.colaboratory.intrinsic+json": {
              "type": "string"
            }
          },
          "metadata": {},
          "execution_count": 36
        }
      ]
    },
    {
      "cell_type": "code",
      "source": [
        "import numpy as np\n",
        "\n",
        "a = [True, True, False]\n",
        "arr = np.array(a)\n",
        "arr + 1"
      ],
      "metadata": {
        "colab": {
          "base_uri": "https://localhost:8080/"
        },
        "id": "fQ15-fueS53w",
        "outputId": "5bbc2d38-56c4-4823-a4ed-bd4f1814f19d"
      },
      "execution_count": 37,
      "outputs": [
        {
          "output_type": "execute_result",
          "data": {
            "text/plain": [
              "array([2, 2, 1])"
            ]
          },
          "metadata": {},
          "execution_count": 37
        }
      ]
    },
    {
      "cell_type": "code",
      "source": [
        "arr.astype(str)"
      ],
      "metadata": {
        "colab": {
          "base_uri": "https://localhost:8080/"
        },
        "id": "G8EojF50TWC3",
        "outputId": "9f516dc8-a29e-4b48-d98e-f7d2e99ec17f"
      },
      "execution_count": 38,
      "outputs": [
        {
          "output_type": "execute_result",
          "data": {
            "text/plain": [
              "array(['True', 'True', 'False'], dtype='<U5')"
            ]
          },
          "metadata": {},
          "execution_count": 38
        }
      ]
    },
    {
      "cell_type": "code",
      "source": [
        "np.int64(arr)"
      ],
      "metadata": {
        "colab": {
          "base_uri": "https://localhost:8080/"
        },
        "id": "5caRwrPtTmBJ",
        "outputId": "e520e50f-7d3b-4dcb-96e9-48c1a010f630"
      },
      "execution_count": 39,
      "outputs": [
        {
          "output_type": "execute_result",
          "data": {
            "text/plain": [
              "array([1, 1, 0])"
            ]
          },
          "metadata": {},
          "execution_count": 39
        }
      ]
    },
    {
      "cell_type": "markdown",
      "source": [
        "### Exercise"
      ],
      "metadata": {
        "id": "SaUZsngbUdN4"
      }
    },
    {
      "cell_type": "markdown",
      "source": [
        "- Create variables `a=10, b=\"3\"`. Convert `b` to an integer and print `a + int(b)`.\n",
        "- Check types before and after conversion."
      ],
      "metadata": {
        "id": "gyXiera0UgWt"
      }
    },
    {
      "cell_type": "code",
      "source": [
        "# Define variables\n",
        "a = 10\n",
        "b = '3'\n",
        "\n",
        "# Print variable types\n",
        "print(type(a), type(b))\n",
        "\n",
        "# Convert variable b to integer\n",
        "b = int(b)\n",
        "\n",
        "# Check types again\n",
        "print(type(a), type(b))\n",
        "\n",
        "# Add variables\n",
        "a + b"
      ],
      "metadata": {
        "id": "tzyQSrCVUk2Q",
        "outputId": "8178dc29-58e8-4c9f-f42d-331dd02a9501",
        "colab": {
          "base_uri": "https://localhost:8080/"
        }
      },
      "execution_count": 40,
      "outputs": [
        {
          "output_type": "stream",
          "name": "stdout",
          "text": [
            "<class 'int'> <class 'str'>\n",
            "<class 'int'> <class 'int'>\n"
          ]
        },
        {
          "output_type": "execute_result",
          "data": {
            "text/plain": [
              "13"
            ]
          },
          "metadata": {},
          "execution_count": 40
        }
      ]
    },
    {
      "cell_type": "markdown",
      "source": [
        "You cannot add a numerical type (floats or ints) with string\n",
        "\n",
        "`2.0 + 'test'`\n",
        "\n",
        "This will give the error below\n",
        "\n",
        "```\n",
        "---------------------------------------------------------------------------\n",
        "TypeError                                 Traceback (most recent call last)\n",
        "/tmp/ipython-input-1910226837.py in <cell line: 0>()\n",
        "      1 # You cannot add a numerical type (floats or ints) with string\n",
        "----> 2 2.0 + 'test'\n",
        "\n",
        "TypeError: unsupported operand type(s) for +: 'float' and 'str'\n",
        "```"
      ],
      "metadata": {
        "id": "9oXOhFfXWPN-"
      }
    },
    {
      "cell_type": "code",
      "source": [
        "# However, you can multiply strings by integers\n",
        "3 * 'test'"
      ],
      "metadata": {
        "id": "-geN3nWDWT88",
        "outputId": "0610ace3-2047-44f7-cc57-304d650f1dd5",
        "colab": {
          "base_uri": "https://localhost:8080/",
          "height": 35
        }
      },
      "execution_count": 43,
      "outputs": [
        {
          "output_type": "execute_result",
          "data": {
            "text/plain": [
              "'testtesttest'"
            ],
            "application/vnd.google.colaboratory.intrinsic+json": {
              "type": "string"
            }
          },
          "metadata": {},
          "execution_count": 43
        }
      ]
    }
  ]
}