{
  "nbformat": 4,
  "nbformat_minor": 0,
  "metadata": {
    "colab": {
      "provenance": [],
      "authorship_tag": "ABX9TyNoAMkXCNg9RzMmd+ShYvid",
      "include_colab_link": true
    },
    "kernelspec": {
      "name": "python3",
      "display_name": "Python 3"
    },
    "language_info": {
      "name": "python"
    }
  },
  "cells": [
    {
      "cell_type": "markdown",
      "metadata": {
        "id": "view-in-github",
        "colab_type": "text"
      },
      "source": [
        "<a href=\"https://colab.research.google.com/github/joshfpedro/math-328/blob/main/fixed_point_method.ipynb\" target=\"_parent\"><img src=\"https://colab.research.google.com/assets/colab-badge.svg\" alt=\"Open In Colab\"/></a>"
      ]
    },
    {
      "cell_type": "code",
      "execution_count": 2,
      "metadata": {
        "id": "HYntTzkhxs6c"
      },
      "outputs": [],
      "source": [
        "def fixed_point_iteration(g, x0, tol=1e-6, max_iter=100):\n",
        "    \"\"\"\n",
        "    Fixed-point iteration for solving x = g(x).\n",
        "\n",
        "    Parameters:\n",
        "    -----------\n",
        "    g : function\n",
        "        The iteration function\n",
        "    x0 : float\n",
        "        Initial guess\n",
        "    tol : float\n",
        "        Tolerance for convergence\n",
        "    max_iter : int\n",
        "        Maximum number of iterations\n",
        "\n",
        "    Returns:\n",
        "    --------\n",
        "    x : float\n",
        "        Approximate fixed point\n",
        "    iterations : list\n",
        "        History of iterations\n",
        "    \"\"\"\n",
        "    x = x0\n",
        "    iterations = [x]\n",
        "\n",
        "    for i in range(max_iter):\n",
        "        x_new = g(x)\n",
        "        iterations.append(x_new)\n",
        "\n",
        "        # Check convergence\n",
        "        if abs(x_new - x) < tol:\n",
        "            print(f\"Converged in {i+1} iterations\")\n",
        "            return x_new, iterations\n",
        "\n",
        "        x = x_new\n",
        "\n",
        "    print(f\"Did not converge in {max_iter} iterations\")\n",
        "    return x, iterations"
      ]
    },
    {
      "cell_type": "code",
      "source": [
        "# Better iteration function\n",
        "g = lambda x: 0.5 * (x + 2/x)\n",
        "\n",
        "# Find fixed point\n",
        "root, history = fixed_point_iteration(\n",
        "    g, x0=1.0, tol=1e-10\n",
        ")\n",
        "\n",
        "print(f\"√2 ≈ {root}\")\n",
        "print(f\"Iterations: {len(history)-1}\")"
      ],
      "metadata": {
        "id": "Mf3jtK5kxvgO",
        "outputId": "7c1c5afd-a910-4778-af54-53249e1ff47d",
        "colab": {
          "base_uri": "https://localhost:8080/"
        }
      },
      "execution_count": 10,
      "outputs": [
        {
          "output_type": "stream",
          "name": "stdout",
          "text": [
            "Did not converge in 100 iterations\n",
            "√2 ≈ 20.222173207719425\n",
            "Iterations: 100\n"
          ]
        }
      ]
    },
    {
      "cell_type": "code",
      "source": [
        "import numpy as np\n",
        "print(np.sqrt(2))\n",
        "\n",
        "g(np.sqrt(2))"
      ],
      "metadata": {
        "id": "sqh12zfByUFI",
        "outputId": "b7ea9981-e6bd-4ee5-d5a0-8546f97d1db0",
        "colab": {
          "base_uri": "https://localhost:8080/"
        }
      },
      "execution_count": 11,
      "outputs": [
        {
          "output_type": "stream",
          "name": "stdout",
          "text": [
            "1.4142135623730951\n"
          ]
        },
        {
          "output_type": "execute_result",
          "data": {
            "text/plain": [
              "np.float64(2.82842712474619)"
            ]
          },
          "metadata": {},
          "execution_count": 11
        }
      ]
    }
  ]
}