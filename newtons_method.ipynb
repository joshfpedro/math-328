{
  "nbformat": 4,
  "nbformat_minor": 0,
  "metadata": {
    "colab": {
      "provenance": [],
      "authorship_tag": "ABX9TyMxNpbCgp3O2IT0P0le7wdl",
      "include_colab_link": true
    },
    "kernelspec": {
      "name": "python3",
      "display_name": "Python 3"
    },
    "language_info": {
      "name": "python"
    }
  },
  "cells": [
    {
      "cell_type": "markdown",
      "metadata": {
        "id": "view-in-github",
        "colab_type": "text"
      },
      "source": [
        "<a href=\"https://colab.research.google.com/github/joshfpedro/math-328/blob/main/newtons_method.ipynb\" target=\"_parent\"><img src=\"https://colab.research.google.com/assets/colab-badge.svg\" alt=\"Open In Colab\"/></a>"
      ]
    },
    {
      "cell_type": "code",
      "execution_count": null,
      "metadata": {
        "id": "1gygvBTOgiDC"
      },
      "outputs": [],
      "source": [
        "import numpy as np\n",
        "import matplotlib.pyplot as plt\n",
        "\n",
        "def newton_method(f, df, x0, tol=1e-6, max_iter=100):\n",
        "    \"\"\"\n",
        "    Newton's method for finding roots.\n",
        "\n",
        "    Parameters:\n",
        "    -----------\n",
        "    f : function\n",
        "        The function whose root we're finding\n",
        "    df : function\n",
        "        The derivative of f\n",
        "    x0 : float\n",
        "        Initial guess\n",
        "    tol : float\n",
        "        Tolerance for convergence\n",
        "    max_iter : int\n",
        "        Maximum number of iterations\n",
        "\n",
        "    Returns:\n",
        "    --------\n",
        "    x : float\n",
        "        Approximate root\n",
        "    iterations : list\n",
        "        History of iterations\n",
        "    \"\"\"\n",
        "    x = x0\n",
        "    iterations = [x]\n",
        "\n",
        "    for i in range(max_iter):\n",
        "        fx = f(x)\n",
        "        dfx = df(x)\n",
        "\n",
        "        # Check if derivative is too small\n",
        "        if abs(dfx) < 1e-12:\n",
        "            print(f\"Derivative too small at iteration {i}\")\n",
        "            break\n",
        "\n",
        "        # Newton's update\n",
        "        x_new = x - fx / dfx\n",
        "        iterations.append(x_new)\n",
        "\n",
        "        # Check convergence\n",
        "        if abs(x_new - x) < tol:\n",
        "            print(f\"Converged in {i+1} iterations\")\n",
        "            return x_new, iterations\n",
        "\n",
        "        x = x_new\n",
        "\n",
        "    print(f\"Did not converge in {max_iter} iterations\")\n",
        "    return x, iterations"
      ]
    }
  ]
}