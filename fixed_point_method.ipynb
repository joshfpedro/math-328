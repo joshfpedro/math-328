{
  "nbformat": 4,
  "nbformat_minor": 0,
  "metadata": {
    "colab": {
      "provenance": [],
      "authorship_tag": "ABX9TyPxJZ4GuchgbW9jgTNVSiiO",
      "include_colab_link": true
    },
    "kernelspec": {
      "name": "python3",
      "display_name": "Python 3"
    },
    "language_info": {
      "name": "python"
    }
  },
  "cells": [
    {
      "cell_type": "markdown",
      "metadata": {
        "id": "view-in-github",
        "colab_type": "text"
      },
      "source": [
        "<a href=\"https://colab.research.google.com/github/joshfpedro/math-328/blob/main/fixed_point_method.ipynb\" target=\"_parent\"><img src=\"https://colab.research.google.com/assets/colab-badge.svg\" alt=\"Open In Colab\"/></a>"
      ]
    },
    {
      "cell_type": "code",
      "execution_count": null,
      "metadata": {
        "id": "HYntTzkhxs6c"
      },
      "outputs": [],
      "source": [
        "def fixed_point_iteration(g, x0, tol=1e-6, max_iter=100):\n",
        "    \"\"\"\n",
        "    Fixed-point iteration for solving x = g(x).\n",
        "\n",
        "    Parameters:\n",
        "    -----------\n",
        "    g : function\n",
        "        The iteration function\n",
        "    x0 : float\n",
        "        Initial guess\n",
        "    tol : float\n",
        "        Tolerance for convergence\n",
        "    max_iter : int\n",
        "        Maximum number of iterations\n",
        "\n",
        "    Returns:\n",
        "    --------\n",
        "    x : float\n",
        "        Approximate fixed point\n",
        "    iterations : list\n",
        "        History of iterations\n",
        "    \"\"\"\n",
        "    x = x0\n",
        "    iterations = [x]\n",
        "\n",
        "    for i in range(max_iter):\n",
        "        x_new = g(x)\n",
        "        iterations.append(x_new)\n",
        "\n",
        "        # Check convergence\n",
        "        if abs(x_new - x) < tol:\n",
        "            print(f\"Converged in {i+1} iterations\")\n",
        "            return x_new, iterations\n",
        "\n",
        "        x = x_new\n",
        "\n",
        "    print(f\"Did not converge in {max_iter} iterations\")\n",
        "    return x, iterations"
      ]
    }
  ]
}