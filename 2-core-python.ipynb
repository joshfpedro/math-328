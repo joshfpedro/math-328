{
  "nbformat": 4,
  "nbformat_minor": 0,
  "metadata": {
    "colab": {
      "provenance": [],
      "authorship_tag": "ABX9TyOAegtg28SFEVDHCvMh4dKt",
      "include_colab_link": true
    },
    "kernelspec": {
      "name": "python3",
      "display_name": "Python 3"
    },
    "language_info": {
      "name": "python"
    }
  },
  "cells": [
    {
      "cell_type": "markdown",
      "metadata": {
        "id": "view-in-github",
        "colab_type": "text"
      },
      "source": [
        "<a href=\"https://colab.research.google.com/github/joshfpedro/math-328/blob/main/2-core-python.ipynb\" target=\"_parent\"><img src=\"https://colab.research.google.com/assets/colab-badge.svg\" alt=\"Open In Colab\"/></a>"
      ]
    },
    {
      "cell_type": "markdown",
      "source": [
        "# Core Python Basics"
      ],
      "metadata": {
        "id": "RRF7oUiYR6vM"
      }
    },
    {
      "cell_type": "markdown",
      "source": [
        "## Variable Types and Casting"
      ],
      "metadata": {
        "id": "8q6ykKRzSAGR"
      }
    },
    {
      "cell_type": "code",
      "execution_count": 7,
      "metadata": {
        "id": "gnT7qMYPQtES",
        "colab": {
          "base_uri": "https://localhost:8080/"
        },
        "outputId": "5b4ef196-19d2-4ded-f8a5-6647e472a204"
      },
      "outputs": [
        {
          "output_type": "stream",
          "name": "stdout",
          "text": [
            "<class 'int'> <class 'float'> <class 'str'> <class 'bool'>\n",
            "2 7.0 7\n"
          ]
        }
      ],
      "source": [
        "x = 7        # int\n",
        "y = 2.5      # float\n",
        "s = \"328C\"    # str\n",
        "b = True     # bool\n",
        "\n",
        "print(type(x), type(y), type(s), type(b))\n",
        "\n",
        "# casting\n",
        "print(int(y), float(x), str(x))"
      ]
    },
    {
      "cell_type": "code",
      "source": [
        "int(y)"
      ],
      "metadata": {
        "colab": {
          "base_uri": "https://localhost:8080/"
        },
        "id": "HLdBQB1oSfdY",
        "outputId": "125e6896-de96-4e51-f12f-c8109c710c32"
      },
      "execution_count": 8,
      "outputs": [
        {
          "output_type": "execute_result",
          "data": {
            "text/plain": [
              "2"
            ]
          },
          "metadata": {},
          "execution_count": 8
        }
      ]
    },
    {
      "cell_type": "code",
      "source": [
        "float(x)"
      ],
      "metadata": {
        "colab": {
          "base_uri": "https://localhost:8080/"
        },
        "id": "SFPenEiASscz",
        "outputId": "2b2d1ccc-eab4-46b2-ebc7-a4bd862720e8"
      },
      "execution_count": 9,
      "outputs": [
        {
          "output_type": "execute_result",
          "data": {
            "text/plain": [
              "7.0"
            ]
          },
          "metadata": {},
          "execution_count": 9
        }
      ]
    },
    {
      "cell_type": "code",
      "source": [
        "str(x)"
      ],
      "metadata": {
        "colab": {
          "base_uri": "https://localhost:8080/",
          "height": 35
        },
        "id": "j9JZlZYFSvjJ",
        "outputId": "23e1c4c3-d0de-4434-f1c7-b2f45c9967b9"
      },
      "execution_count": 10,
      "outputs": [
        {
          "output_type": "execute_result",
          "data": {
            "text/plain": [
              "'7'"
            ],
            "application/vnd.google.colaboratory.intrinsic+json": {
              "type": "string"
            }
          },
          "metadata": {},
          "execution_count": 10
        }
      ]
    },
    {
      "cell_type": "code",
      "source": [
        "import numpy as np\n",
        "\n",
        "a = [True, True, False]\n",
        "arr = np.array(a)\n",
        "arr + 1"
      ],
      "metadata": {
        "colab": {
          "base_uri": "https://localhost:8080/"
        },
        "id": "fQ15-fueS53w",
        "outputId": "0baf55ef-744b-4d62-8b19-9d8b168ef9e1"
      },
      "execution_count": 11,
      "outputs": [
        {
          "output_type": "execute_result",
          "data": {
            "text/plain": [
              "array([2, 2, 1])"
            ]
          },
          "metadata": {},
          "execution_count": 11
        }
      ]
    },
    {
      "cell_type": "code",
      "source": [
        "arr.astype(str)"
      ],
      "metadata": {
        "colab": {
          "base_uri": "https://localhost:8080/"
        },
        "id": "G8EojF50TWC3",
        "outputId": "dbf40592-0686-44bb-9d3b-d1bf3fe18d92"
      },
      "execution_count": 12,
      "outputs": [
        {
          "output_type": "execute_result",
          "data": {
            "text/plain": [
              "array(['True', 'True', 'False'], dtype='<U5')"
            ]
          },
          "metadata": {},
          "execution_count": 12
        }
      ]
    },
    {
      "cell_type": "code",
      "source": [
        "np.int64(arr)"
      ],
      "metadata": {
        "colab": {
          "base_uri": "https://localhost:8080/"
        },
        "id": "5caRwrPtTmBJ",
        "outputId": "b1cf5acb-614b-467b-e7af-2efa91e917a0"
      },
      "execution_count": 13,
      "outputs": [
        {
          "output_type": "execute_result",
          "data": {
            "text/plain": [
              "array([1, 1, 0])"
            ]
          },
          "metadata": {},
          "execution_count": 13
        }
      ]
    },
    {
      "cell_type": "markdown",
      "source": [
        "### Exercise"
      ],
      "metadata": {
        "id": "SaUZsngbUdN4"
      }
    },
    {
      "cell_type": "markdown",
      "source": [
        "- Create variables `a=10, b=\"3\"`. Convert `b` to an integer and print `a + int(b)`.\n",
        "- Check types before and after conversion."
      ],
      "metadata": {
        "id": "gyXiera0UgWt"
      }
    },
    {
      "cell_type": "code",
      "source": [
        "# Define variables\n",
        "a = 10\n",
        "b = '3'\n",
        "\n",
        "# Print variable types\n",
        "print(type(a), type(b))\n",
        "\n",
        "# Convert variable b to integer\n",
        "b = int(b)\n",
        "\n",
        "# Check types again\n",
        "print(type(a), type(b))\n",
        "\n",
        "# Add variables\n",
        "a + b"
      ],
      "metadata": {
        "colab": {
          "base_uri": "https://localhost:8080/"
        },
        "id": "tzyQSrCVUk2Q",
        "outputId": "e9dbfd98-1845-4d0b-e855-44ef602cf841"
      },
      "execution_count": 14,
      "outputs": [
        {
          "output_type": "stream",
          "name": "stdout",
          "text": [
            "<class 'int'> <class 'str'>\n",
            "<class 'int'> <class 'int'>\n"
          ]
        },
        {
          "output_type": "execute_result",
          "data": {
            "text/plain": [
              "13"
            ]
          },
          "metadata": {},
          "execution_count": 14
        }
      ]
    },
    {
      "cell_type": "markdown",
      "source": [
        "You cannot add a numerical type (floats or ints) with string\n",
        "\n",
        "`2.0 + 'test'`\n",
        "\n",
        "This will give the error below\n",
        "\n",
        "```\n",
        "---------------------------------------------------------------------------\n",
        "TypeError                                 Traceback (most recent call last)\n",
        "/tmp/ipython-input-1910226837.py in <cell line: 0>()\n",
        "      1 # You cannot add a numerical type (floats or ints) with string\n",
        "----> 2 2.0 + 'test'\n",
        "\n",
        "TypeError: unsupported operand type(s) for +: 'float' and 'str'\n",
        "```"
      ],
      "metadata": {
        "id": "9oXOhFfXWPN-"
      }
    },
    {
      "cell_type": "code",
      "source": [
        "# However, you can multiply strings by integers\n",
        "3 * 'test'"
      ],
      "metadata": {
        "colab": {
          "base_uri": "https://localhost:8080/",
          "height": 35
        },
        "id": "-geN3nWDWT88",
        "outputId": "5f2be170-f115-4d6d-d848-e80a62a7f779"
      },
      "execution_count": 15,
      "outputs": [
        {
          "output_type": "execute_result",
          "data": {
            "text/plain": [
              "'testtesttest'"
            ],
            "application/vnd.google.colaboratory.intrinsic+json": {
              "type": "string"
            }
          },
          "metadata": {},
          "execution_count": 15
        }
      ]
    },
    {
      "cell_type": "markdown",
      "source": [
        "## IF, ELIF, and ELSE statements"
      ],
      "metadata": {
        "id": "V-V8_saAW9eY"
      }
    },
    {
      "cell_type": "code",
      "source": [
        "def classify(x):\n",
        "\n",
        "  output = \"\"\n",
        "\n",
        "  if x < 0:\n",
        "      output = \"negative\"\n",
        "\n",
        "  elif x == 0:\n",
        "      output = \"zero\"\n",
        "\n",
        "  else:\n",
        "      output = \"positive\"\n",
        "\n",
        "  return output\n",
        "\n",
        "print(classify(-2), classify(0), classify(5))"
      ],
      "metadata": {
        "id": "incGP2aUXBgC",
        "outputId": "687e6cb8-2466-4073-b6d7-465d8a5591e1",
        "colab": {
          "base_uri": "https://localhost:8080/"
        }
      },
      "execution_count": 16,
      "outputs": [
        {
          "output_type": "stream",
          "name": "stdout",
          "text": [
            "negative zero positive\n"
          ]
        }
      ]
    },
    {
      "cell_type": "code",
      "source": [
        "x = 0\n",
        "\n",
        "if x < 0:\n",
        "    print(\"negative\")\n",
        "\n",
        "elif x == 0:\n",
        "    print(\"zero\")\n",
        "\n",
        "else:\n",
        "    print(\"positive\")"
      ],
      "metadata": {
        "id": "FviyCI1xYh5v",
        "outputId": "fb8f42a7-e264-4c18-ea80-1559c2e81603",
        "colab": {
          "base_uri": "https://localhost:8080/"
        }
      },
      "execution_count": 17,
      "outputs": [
        {
          "output_type": "stream",
          "name": "stdout",
          "text": [
            "zero\n"
          ]
        }
      ]
    },
    {
      "cell_type": "markdown",
      "source": [
        "### Exercise\n",
        "\n",
        "- Write a function `is_even(n)` that returns `True` if `n` is even, else `False`.\n",
        "- Test it on `n = 5` and `n = 12`."
      ],
      "metadata": {
        "id": "2oRFJqp3aKDn"
      }
    },
    {
      "cell_type": "code",
      "source": [
        "# Define is_even function\n",
        "def is_even(n):\n",
        "  if n % 2 == 0:\n",
        "    return True\n",
        "\n",
        "  else:\n",
        "    return False\n",
        "\n",
        "# Test function\n",
        "print(is_even(5), is_even(12))"
      ],
      "metadata": {
        "id": "nsE0JESJaJJl",
        "outputId": "19628991-2483-4ebd-c5ad-dc5bf599a167",
        "colab": {
          "base_uri": "https://localhost:8080/"
        }
      },
      "execution_count": 18,
      "outputs": [
        {
          "output_type": "stream",
          "name": "stdout",
          "text": [
            "False True\n"
          ]
        }
      ]
    },
    {
      "cell_type": "code",
      "source": [
        "def is_even(n):\n",
        "    return (n % 2) == 0\n",
        "\n",
        "print(is_even(5), is_even(12))"
      ],
      "metadata": {
        "id": "EB1NsqFzbpMj",
        "outputId": "91e00e45-bbd9-4497-f4ad-5e140d5a9c1f",
        "colab": {
          "base_uri": "https://localhost:8080/"
        }
      },
      "execution_count": 19,
      "outputs": [
        {
          "output_type": "stream",
          "name": "stdout",
          "text": [
            "False True\n"
          ]
        }
      ]
    },
    {
      "cell_type": "markdown",
      "source": [
        "## Loops: `for` and `while`"
      ],
      "metadata": {
        "id": "kSnpAVlLcAPL"
      }
    },
    {
      "cell_type": "markdown",
      "source": [
        "$$\\sum_{i=1}^n i = \\frac{n(n+1)}{2}$$"
      ],
      "metadata": {
        "id": "uS4AfTGddJGB"
      }
    },
    {
      "cell_type": "code",
      "source": [
        "import matplotlib.pyplot as plt\n",
        "\n",
        "# Plot x^2\n",
        "\n",
        "x = np.linspace(-10, 10, 100) # Create 100 points from x = -10 to x = 10\n",
        "y = x**2\n",
        "\n",
        "for k in range(1, 11):\n",
        "\n",
        "  plt.plot(x, k*y, label=f\"{k}x^2\")\n",
        "  plt.legend()\n",
        "  plt.xlabel(\"x\")\n",
        "  plt.ylabel(\"y\")\n",
        "plt.show()"
      ],
      "metadata": {
        "id": "6a1d3BMyh3GS",
        "outputId": "29b49ff5-1a4c-4e2d-86e8-c67aeb9632fe",
        "colab": {
          "base_uri": "https://localhost:8080/",
          "height": 449
        }
      },
      "execution_count": 20,
      "outputs": [
        {
          "output_type": "display_data",
          "data": {
            "text/plain": [
              "<Figure size 640x480 with 1 Axes>"
            ],
            "image/png": "[encoded data removed]"
          },
          "metadata": {}
        }
      ]
    },
    {
      "cell_type": "code",
      "source": [
        "integer_list = []\n",
        "\n",
        "for i in range(1, 101):\n",
        "    integer_list.append(i)\n",
        "\n",
        "print(integer_list)\n",
        "print(sum(integer_list))"
      ],
      "metadata": {
        "id": "7uk05IrZcowh",
        "outputId": "130db64d-6bf5-4d67-f2ec-ec0c1c75209e",
        "colab": {
          "base_uri": "https://localhost:8080/"
        }
      },
      "execution_count": 21,
      "outputs": [
        {
          "output_type": "stream",
          "name": "stdout",
          "text": [
            "[1, 2, 3, 4, 5, 6, 7, 8, 9, 10, 11, 12, 13, 14, 15, 16, 17, 18, 19, 20, 21, 22, 23, 24, 25, 26, 27, 28, 29, 30, 31, 32, 33, 34, 35, 36, 37, 38, 39, 40, 41, 42, 43, 44, 45, 46, 47, 48, 49, 50, 51, 52, 53, 54, 55, 56, 57, 58, 59, 60, 61, 62, 63, 64, 65, 66, 67, 68, 69, 70, 71, 72, 73, 74, 75, 76, 77, 78, 79, 80, 81, 82, 83, 84, 85, 86, 87, 88, 89, 90, 91, 92, 93, 94, 95, 96, 97, 98, 99, 100]\n",
            "5050\n"
          ]
        }
      ]
    },
    {
      "cell_type": "code",
      "source": [
        "even_numbers = [0, 2, 4, 6, 8, 10]\n",
        "\n",
        "for i in even_numbers:\n",
        "    print(i**2)"
      ],
      "metadata": {
        "id": "N3wp28afcMpe",
        "outputId": "5cc1f48d-dbc2-416b-88a8-cc32770f0f72",
        "colab": {
          "base_uri": "https://localhost:8080/"
        }
      },
      "execution_count": 22,
      "outputs": [
        {
          "output_type": "stream",
          "name": "stdout",
          "text": [
            "0\n",
            "4\n",
            "16\n",
            "36\n",
            "64\n",
            "100\n"
          ]
        }
      ]
    },
    {
      "cell_type": "code",
      "source": [
        "# for\n",
        "s = 0\n",
        "for k in range(101):  # k = 0,...,100\n",
        "    s += k\n",
        "print(\"sum 0,...,100:\", s)\n",
        "\n",
        "# while\n",
        "k = 5\n",
        "fac = 1\n",
        "while k > 1:\n",
        "    fac *= k\n",
        "    k -= 1\n",
        "print(\"5!:\", fac)"
      ],
      "metadata": {
        "id": "iz5eog68cDB8",
        "outputId": "7a124c8b-a518-435f-bb26-febfe2dfa09b",
        "colab": {
          "base_uri": "https://localhost:8080/"
        }
      },
      "execution_count": 25,
      "outputs": [
        {
          "output_type": "stream",
          "name": "stdout",
          "text": [
            "sum 0,...,100: 5050\n",
            "5!: 120\n"
          ]
        }
      ]
    },
    {
      "cell_type": "code",
      "source": [
        "5*4*3*2*1"
      ],
      "metadata": {
        "id": "J7wdC7w-lqz2",
        "outputId": "c4331e93-3b96-470b-b897-e5808ea3bfb6",
        "colab": {
          "base_uri": "https://localhost:8080/"
        }
      },
      "execution_count": 26,
      "outputs": [
        {
          "output_type": "execute_result",
          "data": {
            "text/plain": [
              "120"
            ]
          },
          "metadata": {},
          "execution_count": 26
        }
      ]
    },
    {
      "cell_type": "code",
      "source": [
        "k = 5\n",
        "fac = 1\n",
        "while k > 1:\n",
        "    fac = fac * k\n",
        "    k = k - 1\n",
        "print(\"5!:\", fac)"
      ],
      "metadata": {
        "id": "7hgYclV3l3DS",
        "outputId": "405f97a3-e225-4428-db47-dbabfe70e649",
        "colab": {
          "base_uri": "https://localhost:8080/"
        }
      },
      "execution_count": 27,
      "outputs": [
        {
          "output_type": "stream",
          "name": "stdout",
          "text": [
            "5!: 120\n"
          ]
        }
      ]
    },
    {
      "cell_type": "markdown",
      "source": [
        "### Exercise\n",
        "\n",
        "- Use a for loop to compute the sum of squares from 1 to n=5.\n",
        "- Use a while loop to count down from 3 to 1."
      ],
      "metadata": {
        "id": "jBsuwf0Un_xo"
      }
    },
    {
      "cell_type": "code",
      "source": [
        "# For Loop: Method 1\n",
        "\n",
        "n = 0\n",
        "for i in range(1, 6):\n",
        "  n = n + i**2\n",
        "\n",
        "print(\"Method 1:\", n)\n",
        "\n",
        "# For Loop: Method 2\n",
        "n = 0\n",
        "for i in range(1, 6):\n",
        "  n += i**2\n",
        "\n",
        "print(\"Method 2:\", n)\n",
        "\n",
        "# For Loop: Method 3\n",
        "squares = []\n",
        "for i in range(1, 6):\n",
        "  squares.append(i**2)\n",
        "\n",
        "sum_squares = sum(squares)\n",
        "\n",
        "print(\"Method 3:\", sum_squares)"
      ],
      "metadata": {
        "id": "rrkzDTfMoD_d",
        "outputId": "6c5ab7a2-68b4-40ed-909a-93cde8570c47",
        "colab": {
          "base_uri": "https://localhost:8080/"
        }
      },
      "execution_count": 37,
      "outputs": [
        {
          "output_type": "stream",
          "name": "stdout",
          "text": [
            "Method 1: 55\n",
            "Method 2: 55\n",
            "Method 3: 55\n"
          ]
        }
      ]
    },
    {
      "cell_type": "code",
      "source": [
        "# While Loop\n",
        "\n",
        "k = 3\n",
        "\n",
        "while k >= 1:\n",
        "  print(k)\n",
        "  k -= 1"
      ],
      "metadata": {
        "id": "uwgyWW-GosSb",
        "outputId": "af301bf3-b0ec-4750-e2d9-1e1f59ba3e5b",
        "colab": {
          "base_uri": "https://localhost:8080/"
        }
      },
      "execution_count": 44,
      "outputs": [
        {
          "output_type": "stream",
          "name": "stdout",
          "text": [
            "3\n",
            "2\n",
            "1\n"
          ]
        }
      ]
    },
    {
      "cell_type": "markdown",
      "source": [
        "## List Comprehension"
      ],
      "metadata": {
        "id": "nSZQljAhqTPe"
      }
    },
    {
      "cell_type": "code",
      "source": [
        "nums = [1, 2, 3, 4, 5]\n",
        "squares = [x*x for x in nums]\n",
        "print(squares)\n",
        "\n",
        "text = \"Numerical\"\n",
        "print(text[:3], text[3:7], text[-3:])"
      ],
      "metadata": {
        "id": "SY8GElfwqU1b",
        "outputId": "85df28ec-3ca1-4ce6-f9ba-8bac460d8fb6",
        "colab": {
          "base_uri": "https://localhost:8080/"
        }
      },
      "execution_count": 45,
      "outputs": [
        {
          "output_type": "stream",
          "name": "stdout",
          "text": [
            "[1, 4, 9, 16, 25]\n",
            "Num eric cal\n"
          ]
        }
      ]
    }
  ]
}