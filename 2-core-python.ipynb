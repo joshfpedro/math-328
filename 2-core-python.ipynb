{
  "nbformat": 4,
  "nbformat_minor": 0,
  "metadata": {
    "colab": {
      "provenance": [],
      "authorship_tag": "ABX9TyO3bNwmcu4Yvmip3ryCLEl/",
      "include_colab_link": true
    },
    "kernelspec": {
      "name": "python3",
      "display_name": "Python 3"
    },
    "language_info": {
      "name": "python"
    }
  },
  "cells": [
    {
      "cell_type": "markdown",
      "metadata": {
        "id": "view-in-github",
        "colab_type": "text"
      },
      "source": [
        "<a href=\"https://colab.research.google.com/github/joshfpedro/math-328/blob/main/2-core-python.ipynb\" target=\"_parent\"><img src=\"https://colab.research.google.com/assets/colab-badge.svg\" alt=\"Open In Colab\"/></a>"
      ]
    },
    {
      "cell_type": "markdown",
      "source": [
        "# Core Python Basics"
      ],
      "metadata": {
        "id": "RRF7oUiYR6vM"
      }
    },
    {
      "cell_type": "markdown",
      "source": [
        "## Variable Types and Casting"
      ],
      "metadata": {
        "id": "8q6ykKRzSAGR"
      }
    },
    {
      "cell_type": "code",
      "execution_count": 33,
      "metadata": {
        "id": "gnT7qMYPQtES",
        "colab": {
          "base_uri": "https://localhost:8080/"
        },
        "outputId": "1398c283-c3e8-4b83-e1a8-1a1940dbb800"
      },
      "outputs": [
        {
          "output_type": "stream",
          "name": "stdout",
          "text": [
            "<class 'int'> <class 'float'> <class 'str'> <class 'bool'>\n",
            "2 7.0 7\n"
          ]
        }
      ],
      "source": [
        "x = 7        # int\n",
        "y = 2.5      # float\n",
        "s = \"328C\"    # str\n",
        "b = True     # bool\n",
        "\n",
        "print(type(x), type(y), type(s), type(b))\n",
        "\n",
        "# casting\n",
        "print(int(y), float(x), str(x))"
      ]
    },
    {
      "cell_type": "code",
      "source": [
        "int(y)"
      ],
      "metadata": {
        "colab": {
          "base_uri": "https://localhost:8080/"
        },
        "id": "HLdBQB1oSfdY",
        "outputId": "a4aedb83-55f6-4843-a65a-d7d5b1f07833"
      },
      "execution_count": 34,
      "outputs": [
        {
          "output_type": "execute_result",
          "data": {
            "text/plain": [
              "2"
            ]
          },
          "metadata": {},
          "execution_count": 34
        }
      ]
    },
    {
      "cell_type": "code",
      "source": [
        "float(x)"
      ],
      "metadata": {
        "colab": {
          "base_uri": "https://localhost:8080/"
        },
        "id": "SFPenEiASscz",
        "outputId": "aaf23abc-ce44-4fe5-f74b-30981b43089b"
      },
      "execution_count": 35,
      "outputs": [
        {
          "output_type": "execute_result",
          "data": {
            "text/plain": [
              "7.0"
            ]
          },
          "metadata": {},
          "execution_count": 35
        }
      ]
    },
    {
      "cell_type": "code",
      "source": [
        "str(x)"
      ],
      "metadata": {
        "colab": {
          "base_uri": "https://localhost:8080/",
          "height": 35
        },
        "id": "j9JZlZYFSvjJ",
        "outputId": "b862fb52-2ee5-4a71-9c92-b743bb6ce5cc"
      },
      "execution_count": 36,
      "outputs": [
        {
          "output_type": "execute_result",
          "data": {
            "text/plain": [
              "'7'"
            ],
            "application/vnd.google.colaboratory.intrinsic+json": {
              "type": "string"
            }
          },
          "metadata": {},
          "execution_count": 36
        }
      ]
    },
    {
      "cell_type": "code",
      "source": [
        "import numpy as np\n",
        "\n",
        "a = [True, True, False]\n",
        "arr = np.array(a)\n",
        "arr + 1"
      ],
      "metadata": {
        "colab": {
          "base_uri": "https://localhost:8080/"
        },
        "id": "fQ15-fueS53w",
        "outputId": "5bbc2d38-56c4-4823-a4ed-bd4f1814f19d"
      },
      "execution_count": 37,
      "outputs": [
        {
          "output_type": "execute_result",
          "data": {
            "text/plain": [
              "array([2, 2, 1])"
            ]
          },
          "metadata": {},
          "execution_count": 37
        }
      ]
    },
    {
      "cell_type": "code",
      "source": [
        "arr.astype(str)"
      ],
      "metadata": {
        "colab": {
          "base_uri": "https://localhost:8080/"
        },
        "id": "G8EojF50TWC3",
        "outputId": "9f516dc8-a29e-4b48-d98e-f7d2e99ec17f"
      },
      "execution_count": 38,
      "outputs": [
        {
          "output_type": "execute_result",
          "data": {
            "text/plain": [
              "array(['True', 'True', 'False'], dtype='<U5')"
            ]
          },
          "metadata": {},
          "execution_count": 38
        }
      ]
    },
    {
      "cell_type": "code",
      "source": [
        "np.int64(arr)"
      ],
      "metadata": {
        "colab": {
          "base_uri": "https://localhost:8080/"
        },
        "id": "5caRwrPtTmBJ",
        "outputId": "e520e50f-7d3b-4dcb-96e9-48c1a010f630"
      },
      "execution_count": 39,
      "outputs": [
        {
          "output_type": "execute_result",
          "data": {
            "text/plain": [
              "array([1, 1, 0])"
            ]
          },
          "metadata": {},
          "execution_count": 39
        }
      ]
    },
    {
      "cell_type": "markdown",
      "source": [
        "### Exercise"
      ],
      "metadata": {
        "id": "SaUZsngbUdN4"
      }
    },
    {
      "cell_type": "markdown",
      "source": [
        "- Create variables `a=10, b=\"3\"`. Convert `b` to an integer and print `a + int(b)`.\n",
        "- Check types before and after conversion."
      ],
      "metadata": {
        "id": "gyXiera0UgWt"
      }
    },
    {
      "cell_type": "code",
      "source": [
        "# Define variables\n",
        "a = 10\n",
        "b = '3'\n",
        "\n",
        "# Print variable types\n",
        "print(type(a), type(b))\n",
        "\n",
        "# Convert variable b to integer\n",
        "b = int(b)\n",
        "\n",
        "# Check types again\n",
        "print(type(a), type(b))\n",
        "\n",
        "# Add variables\n",
        "a + b"
      ],
      "metadata": {
        "colab": {
          "base_uri": "https://localhost:8080/"
        },
        "id": "tzyQSrCVUk2Q",
        "outputId": "8178dc29-58e8-4c9f-f42d-331dd02a9501"
      },
      "execution_count": 40,
      "outputs": [
        {
          "output_type": "stream",
          "name": "stdout",
          "text": [
            "<class 'int'> <class 'str'>\n",
            "<class 'int'> <class 'int'>\n"
          ]
        },
        {
          "output_type": "execute_result",
          "data": {
            "text/plain": [
              "13"
            ]
          },
          "metadata": {},
          "execution_count": 40
        }
      ]
    },
    {
      "cell_type": "markdown",
      "source": [
        "You cannot add a numerical type (floats or ints) with string\n",
        "\n",
        "`2.0 + 'test'`\n",
        "\n",
        "This will give the error below\n",
        "\n",
        "```\n",
        "---------------------------------------------------------------------------\n",
        "TypeError                                 Traceback (most recent call last)\n",
        "/tmp/ipython-input-1910226837.py in <cell line: 0>()\n",
        "      1 # You cannot add a numerical type (floats or ints) with string\n",
        "----> 2 2.0 + 'test'\n",
        "\n",
        "TypeError: unsupported operand type(s) for +: 'float' and 'str'\n",
        "```"
      ],
      "metadata": {
        "id": "9oXOhFfXWPN-"
      }
    },
    {
      "cell_type": "code",
      "source": [
        "# However, you can multiply strings by integers\n",
        "3 * 'test'"
      ],
      "metadata": {
        "colab": {
          "base_uri": "https://localhost:8080/",
          "height": 35
        },
        "id": "-geN3nWDWT88",
        "outputId": "0610ace3-2047-44f7-cc57-304d650f1dd5"
      },
      "execution_count": 43,
      "outputs": [
        {
          "output_type": "execute_result",
          "data": {
            "text/plain": [
              "'testtesttest'"
            ],
            "application/vnd.google.colaboratory.intrinsic+json": {
              "type": "string"
            }
          },
          "metadata": {},
          "execution_count": 43
        }
      ]
    },
    {
      "cell_type": "markdown",
      "source": [
        "## IF, ELIF, and ELSE statements"
      ],
      "metadata": {
        "id": "V-V8_saAW9eY"
      }
    },
    {
      "cell_type": "code",
      "source": [
        "def classify(x):\n",
        "\n",
        "  output = \"\"\n",
        "\n",
        "  if x < 0:\n",
        "      output = \"negative\"\n",
        "\n",
        "  elif x == 0:\n",
        "      output = \"zero\"\n",
        "\n",
        "  else:\n",
        "      output = \"positive\"\n",
        "\n",
        "  return output\n",
        "\n",
        "print(classify(-2), classify(0), classify(5))"
      ],
      "metadata": {
        "id": "incGP2aUXBgC",
        "outputId": "cb93c25a-a385-4ae6-c1db-f9e8d6cbaee4",
        "colab": {
          "base_uri": "https://localhost:8080/"
        }
      },
      "execution_count": 48,
      "outputs": [
        {
          "output_type": "stream",
          "name": "stdout",
          "text": [
            "negative zero positive\n"
          ]
        }
      ]
    },
    {
      "cell_type": "code",
      "source": [
        "x = 0\n",
        "\n",
        "if x < 0:\n",
        "    print(\"negative\")\n",
        "\n",
        "elif x == 0:\n",
        "    print(\"zero\")\n",
        "\n",
        "else:\n",
        "    print(\"positive\")"
      ],
      "metadata": {
        "id": "FviyCI1xYh5v",
        "outputId": "7cc2bbff-50a1-41b6-da1d-abdc4fe6361e",
        "colab": {
          "base_uri": "https://localhost:8080/"
        }
      },
      "execution_count": 53,
      "outputs": [
        {
          "output_type": "stream",
          "name": "stdout",
          "text": [
            "zero\n"
          ]
        }
      ]
    },
    {
      "cell_type": "markdown",
      "source": [
        "### Exercise\n",
        "\n",
        "- Write a function `is_even(n)` that returns `True` if `n` is even, else `False`.\n",
        "- Test it on `n = 5` and `n = 12`."
      ],
      "metadata": {
        "id": "2oRFJqp3aKDn"
      }
    },
    {
      "cell_type": "code",
      "source": [
        "# Define is_even function\n",
        "def is_even(n):\n",
        "  if n % 2 == 0:\n",
        "    return True\n",
        "\n",
        "  else:\n",
        "    return False\n",
        "\n",
        "# Test function\n",
        "print(is_even(5), is_even(12))"
      ],
      "metadata": {
        "id": "nsE0JESJaJJl",
        "outputId": "face2cee-7441-44c8-a69c-0c39606ef925",
        "colab": {
          "base_uri": "https://localhost:8080/"
        }
      },
      "execution_count": 56,
      "outputs": [
        {
          "output_type": "stream",
          "name": "stdout",
          "text": [
            "False True\n"
          ]
        }
      ]
    },
    {
      "cell_type": "code",
      "source": [
        "def is_even(n):\n",
        "    return (n % 2) == 0\n",
        "\n",
        "print(is_even(5), is_even(12))"
      ],
      "metadata": {
        "id": "EB1NsqFzbpMj",
        "outputId": "8b12302a-1395-46ae-93a7-e95dc205fcc5",
        "colab": {
          "base_uri": "https://localhost:8080/"
        }
      },
      "execution_count": 66,
      "outputs": [
        {
          "output_type": "stream",
          "name": "stdout",
          "text": [
            "False True\n"
          ]
        }
      ]
    },
    {
      "cell_type": "markdown",
      "source": [
        "## Loops: `for` and `while`"
      ],
      "metadata": {
        "id": "kSnpAVlLcAPL"
      }
    },
    {
      "cell_type": "markdown",
      "source": [
        "$$\\sum_{i=1}^n i = \\frac{n(n+1)}{2}$$"
      ],
      "metadata": {
        "id": "uS4AfTGddJGB"
      }
    },
    {
      "cell_type": "code",
      "source": [
        "sum(list(range(1, 101)))"
      ],
      "metadata": {
        "id": "dPLoIMJYdjj1",
        "outputId": "8ace7d87-6c61-4d22-fc80-dc4549eb4a79",
        "colab": {
          "base_uri": "https://localhost:8080/"
        }
      },
      "execution_count": 91,
      "outputs": [
        {
          "output_type": "execute_result",
          "data": {
            "text/plain": [
              "5050"
            ]
          },
          "metadata": {},
          "execution_count": 91
        }
      ]
    },
    {
      "cell_type": "code",
      "source": [
        "integer_list = []\n",
        "\n",
        "for i in range(1, 101):\n",
        "    integer_list.append(i)\n",
        "\n",
        "print(integer_list)\n",
        "print(sum(integer_list))"
      ],
      "metadata": {
        "id": "7uk05IrZcowh",
        "outputId": "fb5f15ea-31e7-4e3a-bc49-761458528c39",
        "colab": {
          "base_uri": "https://localhost:8080/"
        }
      },
      "execution_count": 90,
      "outputs": [
        {
          "output_type": "stream",
          "name": "stdout",
          "text": [
            "[1, 2, 3, 4, 5, 6, 7, 8, 9, 10, 11, 12, 13, 14, 15, 16, 17, 18, 19, 20, 21, 22, 23, 24, 25, 26, 27, 28, 29, 30, 31, 32, 33, 34, 35, 36, 37, 38, 39, 40, 41, 42, 43, 44, 45, 46, 47, 48, 49, 50, 51, 52, 53, 54, 55, 56, 57, 58, 59, 60, 61, 62, 63, 64, 65, 66, 67, 68, 69, 70, 71, 72, 73, 74, 75, 76, 77, 78, 79, 80, 81, 82, 83, 84, 85, 86, 87, 88, 89, 90, 91, 92, 93, 94, 95, 96, 97, 98, 99, 100]\n",
            "5050\n"
          ]
        }
      ]
    },
    {
      "cell_type": "code",
      "source": [
        "even_numbers = [0, 2, 4, 6, 8, 10]\n",
        "\n",
        "for i in even_numbers:\n",
        "    print(i**2)"
      ],
      "metadata": {
        "id": "N3wp28afcMpe",
        "outputId": "0a594386-3408-47f2-e85e-a40446f1fa9c",
        "colab": {
          "base_uri": "https://localhost:8080/"
        }
      },
      "execution_count": 71,
      "outputs": [
        {
          "output_type": "stream",
          "name": "stdout",
          "text": [
            "0\n",
            "4\n",
            "16\n",
            "36\n",
            "64\n",
            "100\n"
          ]
        }
      ]
    },
    {
      "cell_type": "code",
      "source": [
        "# for\n",
        "s = 0\n",
        "for k in range(101):  # k = 0,...,100\n",
        "    s += k\n",
        "print(\"sum 0,...,100:\", s)\n",
        "\n",
        "# # while\n",
        "# k = 5\n",
        "# fac = 1\n",
        "# while k > 1:\n",
        "#     fac *= k\n",
        "#     k -= 1\n",
        "# print(\"5!:\", fac)"
      ],
      "metadata": {
        "id": "iz5eog68cDB8",
        "outputId": "bc1433a6-eb8e-4d30-ff1a-a48fcde7f6a9",
        "colab": {
          "base_uri": "https://localhost:8080/"
        }
      },
      "execution_count": 93,
      "outputs": [
        {
          "output_type": "stream",
          "name": "stdout",
          "text": [
            "sum 0,...,100: 5050\n"
          ]
        }
      ]
    },
    {
      "cell_type": "code",
      "source": [],
      "metadata": {
        "id": "5TbX8ljwelPk"
      },
      "execution_count": null,
      "outputs": []
    }
  ]
}