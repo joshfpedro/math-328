{
  "nbformat": 4,
  "nbformat_minor": 0,
  "metadata": {
    "colab": {
      "provenance": [],
      "authorship_tag": "ABX9TyNF21yLqbFjeCK46w4LY6s3",
      "include_colab_link": true
    },
    "kernelspec": {
      "name": "python3",
      "display_name": "Python 3"
    },
    "language_info": {
      "name": "python"
    }
  },
  "cells": [
    {
      "cell_type": "markdown",
      "metadata": {
        "id": "view-in-github",
        "colab_type": "text"
      },
      "source": [
        "<a href=\"https://colab.research.google.com/github/joshfpedro/math-328/blob/main/bisection_method.ipynb\" target=\"_parent\"><img src=\"https://colab.research.google.com/assets/colab-badge.svg\" alt=\"Open In Colab\"/></a>"
      ]
    },
    {
      "cell_type": "code",
      "execution_count": 14,
      "metadata": {
        "id": "l4cMp0tecPoI"
      },
      "outputs": [],
      "source": [
        "def bisection(f, a, b, tol=1e-6, max_iter=50):\n",
        "    \"\"\"Return x s.t. f(x)≈0 on [a,b] using bisection.\n",
        "    Requires f(a)*f(b) < 0 and f continuous on [a,b].\n",
        "    \"\"\"\n",
        "    fa, fb = f(a), f(b)\n",
        "    if fa == 0:\n",
        "        return a\n",
        "    if fb == 0:\n",
        "        return b\n",
        "    if fa * fb > 0:\n",
        "        raise ValueError(\"f(a) and f(b) must have opposite signs\")\n",
        "\n",
        "    for _ in range(max_iter):\n",
        "        c = 0.5 * (a + b)\n",
        "        fc = f(c)\n",
        "        # If exact or small enough interval\n",
        "        if fc == 0 or 0.5 * (b - a) < tol:\n",
        "            return c\n",
        "        # Keep the subinterval with sign change\n",
        "        if fa * fc < 0:\n",
        "            b, fb = c, fc\n",
        "        else:\n",
        "            a, fa = c, fc\n",
        "    # Return best midpoint after max_iter\n",
        "    return 0.5 * (a + b)"
      ]
    },
    {
      "cell_type": "code",
      "source": [
        "import numpy as np\n",
        "\n",
        "def f(x):\n",
        "    return x*x - 2\n",
        "\n",
        "root = bisection(f, a=1, b=2, tol=1e-10, max_iter=50)\n",
        "print(\"approx root:\", root)\n",
        "print(\"abs error:\", abs(root - np.sqrt(2)))"
      ],
      "metadata": {
        "id": "XcXFodgIf63y",
        "outputId": "354208b1-6db0-42ff-f058-a3030c12f95c",
        "colab": {
          "base_uri": "https://localhost:8080/"
        }
      },
      "execution_count": 16,
      "outputs": [
        {
          "output_type": "stream",
          "name": "stdout",
          "text": [
            "approx root: 1.4142135623260401\n",
            "abs error: 4.705502654189786e-11\n"
          ]
        }
      ]
    },
    {
      "cell_type": "markdown",
      "source": [
        "### How to figure initial values $\\left[a,b \\right]$?"
      ],
      "metadata": {
        "id": "x_dcACV8h3s8"
      }
    },
    {
      "cell_type": "code",
      "source": [
        "# Define initial values\n",
        "a_0 = np.random.normal(0, 1)\n",
        "b_0 = np.random.normal(0, 1)\n",
        "\n",
        "# print(a_0, b_0)\n",
        "root = bisection(f, a=a_0, b=b_0, tol=1e-10, max_iter=100)\n",
        "\n",
        "\n",
        "print(\"approx root:\", root)\n",
        "print(\"abs error:\", abs(root - np.sqrt(2)))"
      ],
      "metadata": {
        "id": "iRf3zQYogl1g",
        "outputId": "c14ec6d2-f114-47f1-fdd9-7d5572787f79",
        "colab": {
          "base_uri": "https://localhost:8080/"
        }
      },
      "execution_count": 87,
      "outputs": [
        {
          "output_type": "stream",
          "name": "stdout",
          "text": [
            "approx root: 1.414213562436393\n",
            "abs error: 6.329781143676882e-11\n"
          ]
        }
      ]
    },
    {
      "cell_type": "code",
      "source": [
        "# Define g(x)\n",
        "def g(x):\n",
        "    return np.cos(x) - x\n",
        "\n",
        "root2 = bisection(g, a=0.0, b=1.0, tol=1e-8, max_iter=60)\n",
        "print(\"approx root:\", root2)"
      ],
      "metadata": {
        "id": "bdmg0SNqj0OQ",
        "outputId": "73187b07-1104-49ae-eb93-498f237abb5c",
        "colab": {
          "base_uri": "https://localhost:8080/"
        }
      },
      "execution_count": 88,
      "outputs": [
        {
          "output_type": "stream",
          "name": "stdout",
          "text": [
            "approx root: 0.7390851303935051\n"
          ]
        }
      ]
    },
    {
      "cell_type": "code",
      "source": [
        "# Residual\n",
        "print(\"|g(root2)| =\", abs(g(root2)))\n",
        "\n",
        "# Error bound after n iterations (worst-case). If we used n=30, starting [0,1]:\n",
        "a0, b0, n = 0.0, 1.0, 30\n",
        "bound = (b0 - a0) / (2**(n+1))\n",
        "print(\"theoretical bound after 30 iters:\", bound)"
      ],
      "metadata": {
        "id": "YEAQxyu2kRtf",
        "outputId": "080e1512-8710-49bd-8835-7d06d097b91e",
        "colab": {
          "base_uri": "https://localhost:8080/"
        }
      },
      "execution_count": 90,
      "outputs": [
        {
          "output_type": "stream",
          "name": "stdout",
          "text": [
            "|g(root2)| = 4.722356616859713e-09\n",
            "theoretical bound after 30 iters: 4.656612873077393e-10\n"
          ]
        }
      ]
    }
  ]
}