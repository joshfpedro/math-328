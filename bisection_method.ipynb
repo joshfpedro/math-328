{
  "nbformat": 4,
  "nbformat_minor": 0,
  "metadata": {
    "colab": {
      "provenance": [],
      "authorship_tag": "ABX9TyPQr4M+goGhItCXTTaj1UIM",
      "include_colab_link": true
    },
    "kernelspec": {
      "name": "python3",
      "display_name": "Python 3"
    },
    "language_info": {
      "name": "python"
    }
  },
  "cells": [
    {
      "cell_type": "markdown",
      "metadata": {
        "id": "view-in-github",
        "colab_type": "text"
      },
      "source": [
        "<a href=\"https://colab.research.google.com/github/joshfpedro/math-328/blob/main/bisection_method.ipynb\" target=\"_parent\"><img src=\"https://colab.research.google.com/assets/colab-badge.svg\" alt=\"Open In Colab\"/></a>"
      ]
    },
    {
      "cell_type": "code",
      "execution_count": 1,
      "metadata": {
        "id": "l4cMp0tecPoI"
      },
      "outputs": [],
      "source": [
        "def bisection(f, a, b, tol=1e-6, max_iter=50):\n",
        "    \"\"\"Return x s.t. f(x)≈0 on [a,b] using bisection.\n",
        "    Requires f(a)*f(b) < 0 and f continuous on [a,b].\n",
        "    \"\"\"\n",
        "    fa, fb = f(a), f(b)\n",
        "    if fa == 0:\n",
        "        return a\n",
        "    if fb == 0:\n",
        "        return b\n",
        "    if fa * fb > 0:\n",
        "        raise ValueError(\"f(a) and f(b) must have opposite signs\")\n",
        "\n",
        "    for _ in range(max_iter):\n",
        "        c = 0.5 * (a + b)\n",
        "        fc = f(c)\n",
        "        # If exact or small enough interval\n",
        "        if fc == 0 or 0.5 * (b - a) < tol:\n",
        "            return c\n",
        "        # Keep the subinterval with sign change\n",
        "        if fa * fc < 0:\n",
        "            b, fb = c, fc\n",
        "        else:\n",
        "            a, fa = c, fc\n",
        "    # Return best midpoint after max_iter\n",
        "    return 0.5 * (a + b)"
      ]
    }
  ]
}