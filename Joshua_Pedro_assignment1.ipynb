{
  "nbformat": 4,
  "nbformat_minor": 0,
  "metadata": {
    "colab": {
      "provenance": [],
      "collapsed_sections": [
        "ZU_8j0QanNcE"
      ],
      "authorship_tag": "ABX9TyNE/PVQnfngI5wborzyDVGK",
      "include_colab_link": true
    },
    "kernelspec": {
      "name": "python3",
      "display_name": "Python 3"
    },
    "language_info": {
      "name": "python"
    }
  },
  "cells": [
    {
      "cell_type": "markdown",
      "metadata": {
        "id": "view-in-github",
        "colab_type": "text"
      },
      "source": [
        "<a href=\"https://colab.research.google.com/github/joshfpedro/math-328/blob/main/Joshua_Pedro_assignment1.ipynb\" target=\"_parent\"><img src=\"https://colab.research.google.com/assets/colab-badge.svg\" alt=\"Open In Colab\"/></a>"
      ]
    },
    {
      "cell_type": "markdown",
      "source": [
        "# Assignment 1: Root Finding Methods\n",
        "Joshua Pedro: jpedro@ccny.cuny.edu"
      ],
      "metadata": {
        "id": "VTSYeAe9m7hu"
      }
    },
    {
      "cell_type": "markdown",
      "source": [
        "## Imports"
      ],
      "metadata": {
        "id": "gtHezZqgnMYY"
      }
    },
    {
      "cell_type": "code",
      "source": [
        "# Import necessary libraries\n",
        "import numpy as np\n",
        "import matplotlib.pyplot as plt\n",
        "\n",
        "# Optional: Configure matplotlib for better-looking plots in Colab\n",
        "%matplotlib inline\n",
        "plt.rcParams['figure.figsize'] = (10, 6)\n",
        "plt.rcParams['font.size'] = 12"
      ],
      "metadata": {
        "id": "fIMhkb4CnrGs"
      },
      "execution_count": null,
      "outputs": []
    },
    {
      "cell_type": "markdown",
      "source": [
        "## Problem 1: Bisection Method"
      ],
      "metadata": {
        "id": "ZU_8j0QanNcE"
      }
    },
    {
      "cell_type": "markdown",
      "source": [
        "**Task**\n",
        "\n",
        "Implement the bisection method for finding roots of continuous functions."
      ],
      "metadata": {
        "id": "t2vczAGMoNeh"
      }
    },
    {
      "cell_type": "code",
      "source": [
        "# Create bisection method function\n",
        "def bisection(f, a, b, tol=1e-6, max_iter=100):\n",
        "    \"\"\"\n",
        "    Find root of function f using bisection method.\n",
        "\n",
        "    Parameters:\n",
        "    -----------\n",
        "    f : callable\n",
        "        Function for which we want to find the root (f(x) = 0)\n",
        "    a : float\n",
        "        Left endpoint of initial interval\n",
        "    b : float\n",
        "        Right endpoint of initial interval\n",
        "    tol : float, optional\n",
        "        Tolerance for convergence (default: 1e-6)\n",
        "    max_iter : int, optional\n",
        "        Maximum number of iterations (default: 100)\n",
        "\n",
        "    Returns:\n",
        "    --------\n",
        "    root : float\n",
        "        Approximate root of the function\n",
        "    iterations : int\n",
        "        Number of iterations performed\n",
        "    history : list of float\n",
        "        List of midpoint values at each iteration\n",
        "\n",
        "    Raises:\n",
        "    -------\n",
        "    ValueError\n",
        "        If f(a) and f(b) have the same sign\n",
        "    \"\"\"\n",
        "    # YOUR CODE HERE\n",
        "    pass"
      ],
      "metadata": {
        "id": "EFxi4g2YoHYc"
      },
      "execution_count": null,
      "outputs": []
    },
    {
      "cell_type": "markdown",
      "source": [
        "#### Testing"
      ],
      "metadata": {
        "id": "eSLJjTahojeD"
      }
    },
    {
      "cell_type": "code",
      "source": [
        "# Test 1: Simple polynomial\n",
        "f1 = lambda x: x**2 - 4\n",
        "root, iters, hist = bisection(f1, 0, 3)\n",
        "assert abs(root - 2.0) < 1e-6\n",
        "\n",
        "# Test 2: Transcendental equation\n",
        "f2 = lambda x: np.cos(x) - x\n",
        "root, iters, hist = bisection(f2, 0, 1)\n",
        "assert abs(root - 0.7390851332) < 1e-6\n",
        "\n",
        "# Test 3: Should raise error\n",
        "f3 = lambda x: x**2 + 1\n",
        "try:\n",
        "    root, iters, hist = bisection(f3, 0, 1)\n",
        "    assert False, \"Should have raised ValueError\"\n",
        "except ValueError:\n",
        "    pass"
      ],
      "metadata": {
        "id": "tUptN8Ezox_m"
      },
      "execution_count": null,
      "outputs": []
    },
    {
      "cell_type": "markdown",
      "source": [
        "## Problem 2: Newton's Method"
      ],
      "metadata": {
        "id": "IMD8DtBVnRGb"
      }
    },
    {
      "cell_type": "code",
      "source": [
        "# Create function for Newton's Method\n",
        "def newton(f, df, x0, tol=1e-6, max_iter=100):\n",
        "    \"\"\"\n",
        "    Find root of function f using Newton's method.\n",
        "\n",
        "    Parameters:\n",
        "    -----------\n",
        "    f : callable\n",
        "        Function for which we want to find the root (f(x) = 0)\n",
        "    df : callable\n",
        "        Derivative of function f\n",
        "    x0 : float\n",
        "        Initial guess\n",
        "    tol : float, optional\n",
        "        Tolerance for convergence (default: 1e-6)\n",
        "    max_iter : int, optional\n",
        "        Maximum number of iterations (default: 100)\n",
        "\n",
        "    Returns:\n",
        "    --------\n",
        "    root : float\n",
        "        Approximate root of the function\n",
        "    iterations : int\n",
        "        Number of iterations performed\n",
        "    history : list of float\n",
        "        List of approximations at each iteration\n",
        "\n",
        "    Raises:\n",
        "    -------\n",
        "    RuntimeError\n",
        "        If derivative is zero at any iteration\n",
        "        If method fails to converge within max_iter\n",
        "    \"\"\"\n",
        "    # YOUR CODE HERE\n",
        "    pass"
      ],
      "metadata": {
        "id": "aLkOOLk7pSEp"
      },
      "execution_count": null,
      "outputs": []
    },
    {
      "cell_type": "markdown",
      "source": [
        "#### Testing"
      ],
      "metadata": {
        "id": "5sPpJLCLpdYJ"
      }
    },
    {
      "cell_type": "code",
      "source": [
        "# Test 1: Polynomial with known root\n",
        "f = lambda x: x**3 - 2*x - 5\n",
        "df = lambda x: 3*x**2 - 2\n",
        "root, iters, hist = newton(f, df, 2.0)\n",
        "assert abs(f(root)) < 1e-6\n",
        "assert iters < 10  # Should converge quickly\n",
        "\n",
        "# Test 2: Square root calculation (x^2 - a = 0)\n",
        "a = 2\n",
        "f = lambda x: x**2 - a\n",
        "df = lambda x: 2*x\n",
        "root, iters, hist = newton(f, df, 1.0)\n",
        "assert abs(root - np.sqrt(a)) < 1e-6"
      ],
      "metadata": {
        "id": "yZ9KXiM_pfPR"
      },
      "execution_count": null,
      "outputs": []
    },
    {
      "cell_type": "markdown",
      "source": [
        "## Problem 3: Secant Method"
      ],
      "metadata": {
        "id": "8DAe6pBnnUOU"
      }
    },
    {
      "cell_type": "markdown",
      "source": [
        "## Problem 4: Comparative Analysis"
      ],
      "metadata": {
        "id": "aVFpSGlwnXv8"
      }
    },
    {
      "cell_type": "markdown",
      "source": [
        "### Part A: Convergence Analysis"
      ],
      "metadata": {
        "id": "J5LpeaUsnc5n"
      }
    },
    {
      "cell_type": "markdown",
      "source": [
        "### Part B: Application"
      ],
      "metadata": {
        "id": "sV9tbWE7nha1"
      }
    },
    {
      "cell_type": "markdown",
      "source": [
        "## Testing"
      ],
      "metadata": {
        "id": "EXakTDVsqZD5"
      }
    },
    {
      "cell_type": "code",
      "source": [
        "def test_assignment1():\n",
        "    \"\"\"\n",
        "    Run basic tests on all implemented functions.\n",
        "    Prints 'All tests passed!' if successful.\n",
        "    \"\"\"\n",
        "\n",
        "    print(\"Testing bisection method...\")\n",
        "    f1 = lambda x: x**2 - 4\n",
        "    root, iters, hist = bisection(f1, 0, 3)\n",
        "    assert abs(root - 2.0) < 1e-6, \"Bisection test 1 failed\"\n",
        "\n",
        "    f2 = lambda x: np.cos(x) - x\n",
        "    root, iters, hist = bisection(f2, 0, 1)\n",
        "    assert abs(root - 0.7390851332) < 1e-6, \"Bisection test 2 failed\"\n",
        "\n",
        "    print(\"Testing Newton's method...\")\n",
        "    f = lambda x: x**3 - 2*x - 5\n",
        "    df = lambda x: 3*x**2 - 2\n",
        "    root, iters, hist = newton(f, df, 2.0)\n",
        "    assert abs(f(root)) < 1e-6, \"Newton test failed\"\n",
        "    assert iters < 10, \"Newton took too many iterations\"\n",
        "\n",
        "    print(\"Testing secant method...\")\n",
        "    root, iters, hist = secant(f, 2.0, 3.0)\n",
        "    assert abs(f(root)) < 1e-6, \"Secant test failed\"\n",
        "\n",
        "    print(\"Testing compare_convergence...\")\n",
        "    results = compare_convergence(f, df, 1, 3, 2.0, 2.0, 3.0, 2.0945514815423265)\n",
        "    assert 'bisection' in results, \"Missing bisection results\"\n",
        "    assert 'newton' in results, \"Missing newton results\"\n",
        "    assert 'secant' in results, \"Missing secant results\"\n",
        "\n",
        "    print(\"Testing find_optimal_learning_rate...\")\n",
        "    alpha_newton, iters_newton = find_optimal_learning_rate('newton', 0.5)\n",
        "    assert abs(alpha_newton - 0.5) < 1e-3, \"Optimal learning rate incorrect\"\n",
        "\n",
        "    print(\"\\n✓ All tests passed!\")\n",
        "\n",
        "# Run the tests\n",
        "test_assignment1()"
      ],
      "metadata": {
        "id": "N3a8KlQ7qa8O"
      },
      "execution_count": null,
      "outputs": []
    }
  ]
}