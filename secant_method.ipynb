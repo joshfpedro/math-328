{
  "nbformat": 4,
  "nbformat_minor": 0,
  "metadata": {
    "colab": {
      "provenance": [],
      "authorship_tag": "ABX9TyNOugW6PY3yOsCB72L90mYI",
      "include_colab_link": true
    },
    "kernelspec": {
      "name": "python3",
      "display_name": "Python 3"
    },
    "language_info": {
      "name": "python"
    }
  },
  "cells": [
    {
      "cell_type": "markdown",
      "metadata": {
        "id": "view-in-github",
        "colab_type": "text"
      },
      "source": [
        "<a href=\"https://colab.research.google.com/github/joshfpedro/math-328/blob/main/secant_method.ipynb\" target=\"_parent\"><img src=\"https://colab.research.google.com/assets/colab-badge.svg\" alt=\"Open In Colab\"/></a>"
      ]
    },
    {
      "cell_type": "code",
      "execution_count": null,
      "metadata": {
        "id": "COP5sOyf0Nch"
      },
      "outputs": [],
      "source": [
        "def secant_method(f, x0, x1, tol=1e-6, max_iter=100):\n",
        "    \"\"\"\n",
        "    Secant method for finding roots.\n",
        "\n",
        "    Parameters:\n",
        "    -----------\n",
        "    f : function\n",
        "        The function whose root we're finding\n",
        "    x0, x1 : float\n",
        "        Two initial guesses (should be close to root)\n",
        "    tol : float\n",
        "        Tolerance for convergence\n",
        "    max_iter : int\n",
        "        Maximum number of iterations\n",
        "\n",
        "    Returns:\n",
        "    --------\n",
        "    x : float\n",
        "        Approximate root\n",
        "    iterations : list\n",
        "        History of iterations\n",
        "    \"\"\"\n",
        "    iterations = [x0, x1]\n",
        "\n",
        "    for i in range(max_iter):\n",
        "        fx0 = f(x0)\n",
        "        fx1 = f(x1)\n",
        "\n",
        "        # Check if function values are too close\n",
        "        if abs(fx1 - fx0) < 1e-12:\n",
        "            print(f\"Function values too close at iteration {i}\")\n",
        "            break\n",
        "\n",
        "        # Secant method update\n",
        "        x_new = x1 - fx1 * (x1 - x0) / (fx1 - fx0)\n",
        "        iterations.append(x_new)\n",
        "\n",
        "        # Check convergence\n",
        "        if abs(x_new - x1) < tol:\n",
        "            print(f\"Converged in {i+1} iterations\")\n",
        "            return x_new, iterations\n",
        "\n",
        "        # Update for next iteration\n",
        "        x0, x1 = x1, x_new\n",
        "\n",
        "    print(f\"Did not converge in {max_iter} iterations\")\n",
        "    return x1, iterations"
      ]
    }
  ]
}