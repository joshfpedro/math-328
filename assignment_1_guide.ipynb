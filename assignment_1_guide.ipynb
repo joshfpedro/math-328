{
  "nbformat": 4,
  "nbformat_minor": 0,
  "metadata": {
    "colab": {
      "provenance": [],
      "authorship_tag": "ABX9TyN8lIMp1LEHfPooxF0JEdyH",
      "include_colab_link": true
    },
    "kernelspec": {
      "name": "python3",
      "display_name": "Python 3"
    },
    "language_info": {
      "name": "python"
    }
  },
  "cells": [
    {
      "cell_type": "markdown",
      "metadata": {
        "id": "view-in-github",
        "colab_type": "text"
      },
      "source": [
        "<a href=\"https://colab.research.google.com/github/joshfpedro/math-328/blob/main/assignment_1_guide.ipynb\" target=\"_parent\"><img src=\"https://colab.research.google.com/assets/colab-badge.svg\" alt=\"Open In Colab\"/></a>"
      ]
    },
    {
      "cell_type": "code",
      "execution_count": null,
      "metadata": {
        "id": "1uLnEVbN3yZv"
      },
      "outputs": [],
      "source": [
        "def bisection(f, a, b, tol=1e-6, max_iter=100):\n",
        "    \"\"\"Find root using bisection method.\"\"\"\n",
        "\n",
        "    # Step 1: Check that signs differ\n",
        "    if f(a) * f(b) > 0:\n",
        "        raise ValueError(\"f(a) and f(b) must have opposite signs\")\n",
        "\n",
        "    # Step 2: Initialize\n",
        "    history = []\n",
        "    iteration = 0\n",
        "\n",
        "    # Step 3: Main loop\n",
        "    while iteration < max_iter:\n",
        "        c = (a + b) / 2\n",
        "        history.append(c)\n",
        "\n",
        "        if abs(f(c)) < tol or abs(b - a) / 2 < tol:\n",
        "            return c, iteration + 1, history\n",
        "\n",
        "        # Update interval\n",
        "        if f(a) * f(c) < 0:\n",
        "            b = c\n",
        "        else:\n",
        "            a = c\n",
        "\n",
        "        iteration += 1\n",
        "\n",
        "    # Step 4: Return even if not converged\n",
        "    return c, iteration, history"
      ]
    }
  ]
}