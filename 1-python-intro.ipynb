{
  "nbformat": 4,
  "nbformat_minor": 0,
  "metadata": {
    "colab": {
      "provenance": [],
      "authorship_tag": "ABX9TyOxcdUKPhaDnalPZhDiG4LY",
      "include_colab_link": true
    },
    "kernelspec": {
      "name": "python3",
      "display_name": "Python 3"
    },
    "language_info": {
      "name": "python"
    }
  },
  "cells": [
    {
      "cell_type": "markdown",
      "metadata": {
        "id": "view-in-github",
        "colab_type": "text"
      },
      "source": [
        "<a href=\"https://colab.research.google.com/github/joshfpedro/math-328/blob/main/1-python-intro.ipynb\" target=\"_parent\"><img src=\"https://colab.research.google.com/assets/colab-badge.svg\" alt=\"Open In Colab\"/></a>"
      ]
    },
    {
      "cell_type": "markdown",
      "source": [
        "# Introduction to Python"
      ],
      "metadata": {
        "id": "-x5DQr4Kh-Qq"
      }
    },
    {
      "cell_type": "markdown",
      "source": [
        "## First steps in Colab"
      ],
      "metadata": {
        "id": "mA1YSaFaixL5"
      }
    },
    {
      "cell_type": "markdown",
      "source": [
        "How to write math equations in colab."
      ],
      "metadata": {
        "id": "Eqd1y6lUjOSG"
      }
    },
    {
      "cell_type": "markdown",
      "source": [
        "$$\\frac{d y}{d x} = x^2$$"
      ],
      "metadata": {
        "id": "FskdBErNi3R-"
      }
    },
    {
      "cell_type": "code",
      "execution_count": 1,
      "metadata": {
        "colab": {
          "base_uri": "https://localhost:8080/"
        },
        "id": "HUlMQ9F2g2P_",
        "outputId": "5dbdf9b9-549e-417d-c292-202701325afd"
      },
      "outputs": [
        {
          "output_type": "stream",
          "name": "stdout",
          "text": [
            "Hello, Numerical Analysis!\n"
          ]
        }
      ],
      "source": [
        "# My very first Python code in Colab!\n",
        "print(\"Hello, Numerical Analysis!\")"
      ]
    },
    {
      "cell_type": "markdown",
      "source": [
        "## Variables and Operations"
      ],
      "metadata": {
        "id": "AmvWlRoPjdyI"
      }
    },
    {
      "cell_type": "code",
      "source": [
        "x = 10            # An integer\n",
        "y = 3.14          # A float\n",
        "myname = \"Alice\"  # A string\n",
        "yourname = 'Jane' # Also a string\n",
        "\n",
        "print(x)\n",
        "print(y)\n",
        "print(myname)\n",
        "print(yourname)"
      ],
      "metadata": {
        "colab": {
          "base_uri": "https://localhost:8080/"
        },
        "id": "eFlOJMqUjgES",
        "outputId": "7ba35059-3d66-4737-f06f-d0e13e544b86"
      },
      "execution_count": 2,
      "outputs": [
        {
          "output_type": "stream",
          "name": "stdout",
          "text": [
            "10\n",
            "3.14\n",
            "Alice\n",
            "Jane\n"
          ]
        }
      ]
    },
    {
      "cell_type": "code",
      "source": [
        "# You can check variable types in python\n",
        "\n",
        "x = 10.0\n",
        "print(type(x))\n",
        "print(type(y))\n",
        "print(type(myname))\n",
        "print(type(yourname))"
      ],
      "metadata": {
        "colab": {
          "base_uri": "https://localhost:8080/"
        },
        "id": "iQuqMVhdkTch",
        "outputId": "85a53cd2-58d7-47e4-8f3f-a7ca101e7964"
      },
      "execution_count": 3,
      "outputs": [
        {
          "output_type": "stream",
          "name": "stdout",
          "text": [
            "<class 'float'>\n",
            "<class 'float'>\n",
            "<class 'str'>\n",
            "<class 'str'>\n"
          ]
        }
      ]
    },
    {
      "cell_type": "code",
      "source": [
        "# Arithmetic Operations\n",
        "\n",
        "# Define variables\n",
        "a = 15\n",
        "b = 4\n",
        "\n",
        "print(\"Addition:\", a + b)           # Add\n",
        "print(\"Subtraction:\", a - b)        # Subtract\n",
        "print(\"Multiplication:\", a * b)     # Multiply\n",
        "print(\"Division:\", a / b)           # Divide\n",
        "print(\"Integer Division:\", a // b)  # Gets the quotient\n",
        "print(\"Modulo:\", a % b)             # Gets the remainder\n",
        "print(\"Exponentiation:\", a ** b)    # Raise to Power"
      ],
      "metadata": {
        "colab": {
          "base_uri": "https://localhost:8080/"
        },
        "id": "waMx8NVBlLUT",
        "outputId": "72de0c71-7ecc-4b61-e9bd-5a00bc8985c8"
      },
      "execution_count": 4,
      "outputs": [
        {
          "output_type": "stream",
          "name": "stdout",
          "text": [
            "Addition: 19\n",
            "Subtraction: 11\n",
            "Multiplication: 60\n",
            "Division: 3.75\n",
            "Integer Division: 3\n",
            "Modulo: 3\n",
            "Exponentiation: 50625\n"
          ]
        }
      ]
    },
    {
      "cell_type": "markdown",
      "source": [
        "## Data Structures: Lists"
      ],
      "metadata": {
        "id": "Yo5jbt6NnOtj"
      }
    },
    {
      "cell_type": "code",
      "source": [
        "my_list = [1, 2, 3, \"four\", 5.0] # A list can hold different data types\n",
        "my_list"
      ],
      "metadata": {
        "colab": {
          "base_uri": "https://localhost:8080/"
        },
        "id": "kSDFbF9FnR52",
        "outputId": "b8ba36e8-9d8a-44b6-8713-c0218565aa22"
      },
      "execution_count": 5,
      "outputs": [
        {
          "output_type": "execute_result",
          "data": {
            "text/plain": [
              "[1, 2, 3, 'four', 5.0]"
            ]
          },
          "metadata": {},
          "execution_count": 5
        }
      ]
    },
    {
      "cell_type": "markdown",
      "source": [
        "**Note**: In python, the first index starts at 0 (in most cases) instead of 1."
      ],
      "metadata": {
        "id": "j2aCyZYfoHke"
      }
    },
    {
      "cell_type": "code",
      "source": [
        "# The 0 index prints the first element of my_list\n",
        "print(\"First element:\", my_list[0])\n",
        "\n",
        "# The -1 index prints the last element of my_list\n",
        "print(\"Last element:\", my_list[-1])\n",
        "\n",
        "# Select a range of elements from a list\n",
        "print(\"Slice (elements 1 to 3):\", my_list[1:4])"
      ],
      "metadata": {
        "colab": {
          "base_uri": "https://localhost:8080/"
        },
        "id": "3Rr7hVsFndbi",
        "outputId": "e78db3a3-d730-4ab2-8553-13d5a5e08f0a"
      },
      "execution_count": 6,
      "outputs": [
        {
          "output_type": "stream",
          "name": "stdout",
          "text": [
            "First element: 1\n",
            "Last element: 5.0\n",
            "Slice (elements 1 to 3): [2, 3, 'four']\n"
          ]
        }
      ]
    },
    {
      "cell_type": "code",
      "source": [
        "my_list.append(6) # Add an element to the end\n",
        "print(\"After append:\", my_list)\n",
        "print(type(my_list))\n",
        "\n",
        "my_list[3] = 4  # Change an element\n",
        "print(\"After modification:\", my_list)\n",
        "print(type(my_list))"
      ],
      "metadata": {
        "colab": {
          "base_uri": "https://localhost:8080/"
        },
        "id": "_oavDU-noSjv",
        "outputId": "55e5ffcd-2022-4807-aa96-f495af908bf5"
      },
      "execution_count": 7,
      "outputs": [
        {
          "output_type": "stream",
          "name": "stdout",
          "text": [
            "After append: [1, 2, 3, 'four', 5.0, 6]\n",
            "<class 'list'>\n",
            "After modification: [1, 2, 3, 4, 5.0, 6]\n",
            "<class 'list'>\n"
          ]
        }
      ]
    },
    {
      "cell_type": "code",
      "source": [
        "my_list"
      ],
      "metadata": {
        "colab": {
          "base_uri": "https://localhost:8080/"
        },
        "id": "QuKhCLJipURl",
        "outputId": "1aeccec3-703c-433b-aceb-1ac6c79e7f82"
      },
      "execution_count": 8,
      "outputs": [
        {
          "output_type": "execute_result",
          "data": {
            "text/plain": [
              "[1, 2, 3, 4, 5.0, 6]"
            ]
          },
          "metadata": {},
          "execution_count": 8
        }
      ]
    },
    {
      "cell_type": "markdown",
      "source": [
        "## Intro to NumPy"
      ],
      "metadata": {
        "id": "0cqAGN2NrNc0"
      }
    },
    {
      "cell_type": "code",
      "source": [
        "# Import the numpy library\n",
        "import numpy as np"
      ],
      "metadata": {
        "id": "cNiLFNCHrPtI"
      },
      "execution_count": 9,
      "outputs": []
    },
    {
      "cell_type": "code",
      "source": [
        "# Create an array from a list\n",
        "arr1 = np.array([1, 2])\n",
        "print(\"1D Array:\", arr1)\n",
        "\n",
        "# Create a 2x2 matrix\n",
        "arr2 = np.array([[1, 2],\n",
        "                 [3, 4]])\n",
        "\n",
        "print(\"2D Array:\\n\", arr2)"
      ],
      "metadata": {
        "colab": {
          "base_uri": "https://localhost:8080/"
        },
        "id": "rXcRmFXyrdcV",
        "outputId": "8edbab1d-b6b1-4651-b3fa-2322abee6789"
      },
      "execution_count": 10,
      "outputs": [
        {
          "output_type": "stream",
          "name": "stdout",
          "text": [
            "1D Array: [1 2]\n",
            "2D Array:\n",
            " [[1 2]\n",
            " [3 4]]\n"
          ]
        }
      ]
    },
    {
      "cell_type": "code",
      "source": [
        "# Check shape of arrays\n",
        "print(\"Array 1 Shape:\", arr1.shape)\n",
        "print(\"Array 2 Shape:\", arr2.shape)"
      ],
      "metadata": {
        "id": "cLeBCFt1rvqQ",
        "colab": {
          "base_uri": "https://localhost:8080/"
        },
        "outputId": "b1665b15-e976-4121-ae6b-78043f6582fc"
      },
      "execution_count": 11,
      "outputs": [
        {
          "output_type": "stream",
          "name": "stdout",
          "text": [
            "Array 1 Shape: (2,)\n",
            "Array 2 Shape: (2, 2)\n"
          ]
        }
      ]
    },
    {
      "cell_type": "code",
      "source": [
        "# Create a numpy array that is shape 2x1\n",
        "arr3 = np.array([[1],\n",
        "                 [2]])\n",
        "\n",
        "arr3.shape"
      ],
      "metadata": {
        "colab": {
          "base_uri": "https://localhost:8080/"
        },
        "id": "Yas2_aNNNkYL",
        "outputId": "a3bee63c-d99a-4f26-e16f-ad6c081b3ebb"
      },
      "execution_count": 12,
      "outputs": [
        {
          "output_type": "execute_result",
          "data": {
            "text/plain": [
              "(2, 1)"
            ]
          },
          "metadata": {},
          "execution_count": 12
        }
      ]
    },
    {
      "cell_type": "markdown",
      "source": [
        "You can select elements from an $n \\times m$  array by slicing the index as `[i][j]` or `[i, j]`. This will give you the element in row `i` and column `j`. Where $i = 0,\\ldots , n-1$ and $j = 0, \\ldots, m-1$."
      ],
      "metadata": {
        "id": "jA1noDVzQBUz"
      }
    },
    {
      "cell_type": "code",
      "source": [
        "# Select element from second row and first column\n",
        "arr3[1, 0]"
      ],
      "metadata": {
        "colab": {
          "base_uri": "https://localhost:8080/"
        },
        "id": "D9zvYRJ7Ojfp",
        "outputId": "49f9ee38-fb28-4f1e-9c0e-611e23feb580"
      },
      "execution_count": 13,
      "outputs": [
        {
          "output_type": "execute_result",
          "data": {
            "text/plain": [
              "np.int64(2)"
            ]
          },
          "metadata": {},
          "execution_count": 13
        }
      ]
    },
    {
      "cell_type": "markdown",
      "source": [
        "### Special array creation functions"
      ],
      "metadata": {
        "id": "Zh5Dh2M8RD4U"
      }
    },
    {
      "cell_type": "code",
      "source": [
        "zeros_arr = np.zeros((2, 3)) # 2x3 array of zeros\n",
        "print(\"\\nZeros Array:\\n\", zeros_arr)\n",
        "\n",
        "range_arr = np.arange(0, 10, 2) # Array with values from 0 to 9, step 2\n",
        "print(\"\\nRange Array:\", range_arr)\n",
        "\n",
        "# Create an array of ones\n",
        "ones_arr = np.ones((2, 2))\n",
        "print(\"\\nOnes Array:\\n\", ones_arr)\n",
        "\n",
        "# Create the identity array\n",
        "identity_arr = np.eye(3)\n",
        "print(\"\\nIdentity Array:\\n\", identity_arr)"
      ],
      "metadata": {
        "colab": {
          "base_uri": "https://localhost:8080/"
        },
        "id": "b4RaEwmcQ-ry",
        "outputId": "0e44dff8-fc81-4f9d-a3a5-cf317976c868"
      },
      "execution_count": 14,
      "outputs": [
        {
          "output_type": "stream",
          "name": "stdout",
          "text": [
            "\n",
            "Zeros Array:\n",
            " [[0. 0. 0.]\n",
            " [0. 0. 0.]]\n",
            "\n",
            "Range Array: [0 2 4 6 8]\n",
            "\n",
            "Ones Array:\n",
            " [[1. 1.]\n",
            " [1. 1.]]\n",
            "\n",
            "Identity Array:\n",
            " [[1. 0. 0.]\n",
            " [0. 1. 0.]\n",
            " [0. 0. 1.]]\n"
          ]
        }
      ]
    },
    {
      "cell_type": "code",
      "source": [
        "# You can also create a range of numbers in a list (built in python function)\n",
        "list(range(0, 10, 2))"
      ],
      "metadata": {
        "colab": {
          "base_uri": "https://localhost:8080/"
        },
        "id": "JBkrKtN4RzKp",
        "outputId": "0543516d-fc5c-4506-ca72-843e9f000cfa"
      },
      "execution_count": 15,
      "outputs": [
        {
          "output_type": "execute_result",
          "data": {
            "text/plain": [
              "[0, 2, 4, 6, 8]"
            ]
          },
          "metadata": {},
          "execution_count": 15
        }
      ]
    },
    {
      "cell_type": "code",
      "source": [
        "# You can also tranpose an array\n",
        "\n",
        "# Create 3x3 array\n",
        "arr = np.array([[1, 2, 3],\n",
        "                [4, 5, 6],\n",
        "                [7, 8, 9]])\n",
        "\n",
        "arr.T"
      ],
      "metadata": {
        "colab": {
          "base_uri": "https://localhost:8080/"
        },
        "id": "7zj_s6qXSKfC",
        "outputId": "e7c3d87e-1205-48ce-c2ae-72637b9e35f5"
      },
      "execution_count": 16,
      "outputs": [
        {
          "output_type": "execute_result",
          "data": {
            "text/plain": [
              "array([[1, 4, 7],\n",
              "       [2, 5, 8],\n",
              "       [3, 6, 9]])"
            ]
          },
          "metadata": {},
          "execution_count": 16
        }
      ]
    },
    {
      "cell_type": "code",
      "source": [
        "arr.dtype"
      ],
      "metadata": {
        "colab": {
          "base_uri": "https://localhost:8080/"
        },
        "id": "QkpJBqLTTwQ7",
        "outputId": "5d9469ff-2d1c-4501-90d2-230f02c86a4a"
      },
      "execution_count": 17,
      "outputs": [
        {
          "output_type": "execute_result",
          "data": {
            "text/plain": [
              "dtype('int64')"
            ]
          },
          "metadata": {},
          "execution_count": 17
        }
      ]
    },
    {
      "cell_type": "markdown",
      "source": [
        "## Numpy Exercise"
      ],
      "metadata": {
        "id": "pS3b4c3LUyYY"
      }
    },
    {
      "cell_type": "markdown",
      "source": [
        "1. Make a 1D NumPy array `a = [2, 4, 6, 8]` and print its shape and dtype."
      ],
      "metadata": {
        "id": "NPsqIm5nU1yX"
      }
    },
    {
      "cell_type": "code",
      "source": [
        "a = np.array([2, 4, 6, 8])\n",
        "print(\"Shape of array a:\", a.shape)\n",
        "print(\"Data type of array a:\", a.dtype)"
      ],
      "metadata": {
        "colab": {
          "base_uri": "https://localhost:8080/"
        },
        "id": "oy1Vl69uU07x",
        "outputId": "8d6b5302-ccbf-4c4b-eb49-76ee84db2bce"
      },
      "execution_count": 18,
      "outputs": [
        {
          "output_type": "stream",
          "name": "stdout",
          "text": [
            "Shape of array a: (4,)\n",
            "Data type of array a: int64\n"
          ]
        }
      ]
    },
    {
      "cell_type": "markdown",
      "source": [
        "2. Make a `2×2` zero matrix and set the element in `row 1, col 0` to 3."
      ],
      "metadata": {
        "id": "CWctSGa7Vadj"
      }
    },
    {
      "cell_type": "code",
      "source": [
        "zero_matrix = np.zeros((2, 2))\n",
        "zero_matrix[1, 0] = 3\n",
        "zero_matrix"
      ],
      "metadata": {
        "colab": {
          "base_uri": "https://localhost:8080/"
        },
        "id": "JVt_tKJHVOAj",
        "outputId": "165df146-425c-438d-d1ec-55ce646bdd55"
      },
      "execution_count": 19,
      "outputs": [
        {
          "output_type": "execute_result",
          "data": {
            "text/plain": [
              "array([[0., 0.],\n",
              "       [3., 0.]])"
            ]
          },
          "metadata": {},
          "execution_count": 19
        }
      ]
    },
    {
      "cell_type": "markdown",
      "source": [
        "3. Compute `a*2` and `a+1` (element-wise) and slice the last two entries."
      ],
      "metadata": {
        "id": "hbBv37-XWKpa"
      }
    },
    {
      "cell_type": "code",
      "source": [
        "a"
      ],
      "metadata": {
        "colab": {
          "base_uri": "https://localhost:8080/"
        },
        "id": "hs_5nz8PWib_",
        "outputId": "a02962e6-d29f-4d86-df9c-df45b4f0e900"
      },
      "execution_count": 20,
      "outputs": [
        {
          "output_type": "execute_result",
          "data": {
            "text/plain": [
              "array([2, 4, 6, 8])"
            ]
          },
          "metadata": {},
          "execution_count": 20
        }
      ]
    },
    {
      "cell_type": "code",
      "source": [
        "# Element-wise multiplication\n",
        "a*2"
      ],
      "metadata": {
        "colab": {
          "base_uri": "https://localhost:8080/"
        },
        "id": "51_K2_AcVtJ4",
        "outputId": "6dc7d058-89d8-44b0-cfb9-2114d7e4537f"
      },
      "execution_count": 21,
      "outputs": [
        {
          "output_type": "execute_result",
          "data": {
            "text/plain": [
              "array([ 4,  8, 12, 16])"
            ]
          },
          "metadata": {},
          "execution_count": 21
        }
      ]
    },
    {
      "cell_type": "code",
      "source": [
        "# Element-wise addition\n",
        "a + 1"
      ],
      "metadata": {
        "colab": {
          "base_uri": "https://localhost:8080/"
        },
        "id": "CB0iVmiIWVRs",
        "outputId": "72795af2-91e8-4b7d-8005-3bc9fa0dd013"
      },
      "execution_count": 22,
      "outputs": [
        {
          "output_type": "execute_result",
          "data": {
            "text/plain": [
              "array([3, 5, 7, 9])"
            ]
          },
          "metadata": {},
          "execution_count": 22
        }
      ]
    },
    {
      "cell_type": "code",
      "source": [
        "# Slice the last 2 elements\n",
        "a[-2:]"
      ],
      "metadata": {
        "colab": {
          "base_uri": "https://localhost:8080/"
        },
        "id": "FI3B7r8oWhd_",
        "outputId": "89226892-a16b-4d01-fb16-b5d937d4623e"
      },
      "execution_count": 26,
      "outputs": [
        {
          "output_type": "execute_result",
          "data": {
            "text/plain": [
              "array([6, 8])"
            ]
          },
          "metadata": {},
          "execution_count": 26
        }
      ]
    },
    {
      "cell_type": "code",
      "source": [
        "import numpy as np\n",
        "\n",
        "a = np.array([2, 4, 6, 8])\n",
        "print(\"a:\", a)\n",
        "print(\"shape:\", a.shape, \"dtype:\", a.dtype)\n",
        "\n",
        "Z = np.zeros((2, 2))\n",
        "Z[1, 0] = 3\n",
        "print(\"\\nZ =\\n\", Z)\n",
        "\n",
        "print(\"\\na*2:\", a*2)\n",
        "print(\"a+1:\", a+1)\n",
        "print(\"last two entries:\", a[-2:])"
      ],
      "metadata": {
        "colab": {
          "base_uri": "https://localhost:8080/"
        },
        "id": "-HYsE1suWzGG",
        "outputId": "2432de61-4ca9-4d7a-84bf-961bfe56e79e"
      },
      "execution_count": 27,
      "outputs": [
        {
          "output_type": "stream",
          "name": "stdout",
          "text": [
            "a: [2 4 6 8]\n",
            "shape: (4,) dtype: int64\n",
            "\n",
            "Z =\n",
            " [[0. 0.]\n",
            " [3. 0.]]\n",
            "\n",
            "a*2: [ 4  8 12 16]\n",
            "a+1: [3 5 7 9]\n",
            "last two entries: [6 8]\n"
          ]
        }
      ]
    },
    {
      "cell_type": "code",
      "source": [
        "# Element-wise exponentiation\n",
        "a\n",
        "\n",
        "a ** 2"
      ],
      "metadata": {
        "colab": {
          "base_uri": "https://localhost:8080/"
        },
        "id": "6HLTX6zygm_Y",
        "outputId": "5a641ca1-c71b-4221-c304-63b86854e3c1"
      },
      "execution_count": 31,
      "outputs": [
        {
          "output_type": "execute_result",
          "data": {
            "text/plain": [
              "array([ 4, 16, 36, 64])"
            ]
          },
          "metadata": {},
          "execution_count": 31
        }
      ]
    },
    {
      "cell_type": "code",
      "source": [
        "a = np.array([1., 2., 3.])\n",
        "b = np.array([4., 5., 6.])"
      ],
      "metadata": {
        "id": "pCjO5NBugxGc"
      },
      "execution_count": 53,
      "outputs": []
    },
    {
      "cell_type": "code",
      "source": [
        "# Add two arrays\n",
        "a + b"
      ],
      "metadata": {
        "colab": {
          "base_uri": "https://localhost:8080/"
        },
        "id": "rQN79eM6h5-_",
        "outputId": "1d539036-6ff5-4bbf-d639-cb0fc8ed4e89"
      },
      "execution_count": 49,
      "outputs": [
        {
          "output_type": "execute_result",
          "data": {
            "text/plain": [
              "array([5., 7., 9.])"
            ]
          },
          "metadata": {},
          "execution_count": 49
        }
      ]
    },
    {
      "cell_type": "code",
      "source": [
        "# Element-wise multiplication\n",
        "a * b"
      ],
      "metadata": {
        "colab": {
          "base_uri": "https://localhost:8080/"
        },
        "id": "C0iKx8i2iRAp",
        "outputId": "1a4b4c38-525e-48d2-c422-b41c83669f34"
      },
      "execution_count": 55,
      "outputs": [
        {
          "output_type": "execute_result",
          "data": {
            "text/plain": [
              "array([ 4., 10., 18.])"
            ]
          },
          "metadata": {},
          "execution_count": 55
        }
      ]
    },
    {
      "cell_type": "code",
      "source": [
        "# Dot Product\n",
        "a.dot(b)"
      ],
      "metadata": {
        "colab": {
          "base_uri": "https://localhost:8080/"
        },
        "id": "66hZQpYGisHF",
        "outputId": "1fdb3948-7cf6-437c-fd8e-d15dc2453e16"
      },
      "execution_count": 58,
      "outputs": [
        {
          "output_type": "execute_result",
          "data": {
            "text/plain": [
              "np.float64(32.0)"
            ]
          },
          "metadata": {},
          "execution_count": 58
        }
      ]
    },
    {
      "cell_type": "code",
      "source": [
        "a = np.array([[1, 2],\n",
        "              [3, 4]])\n",
        "\n",
        "b = np.array([[2, 1],\n",
        "              [3, 7]])\n",
        "\n",
        "np.dot(a, b)"
      ],
      "metadata": {
        "colab": {
          "base_uri": "https://localhost:8080/"
        },
        "id": "DmaPcM6Oi_E-",
        "outputId": "8de4efbb-6f94-477e-c202-9fdf328326c4"
      },
      "execution_count": 64,
      "outputs": [
        {
          "output_type": "execute_result",
          "data": {
            "text/plain": [
              "array([[ 8, 15],\n",
              "       [18, 31]])"
            ]
          },
          "metadata": {},
          "execution_count": 64
        }
      ]
    },
    {
      "cell_type": "markdown",
      "source": [
        "## Intro to SciPy"
      ],
      "metadata": {
        "id": "SDxmvjrUklRl"
      }
    },
    {
      "cell_type": "code",
      "source": [
        "# Import libraries\n",
        "import numpy as np\n",
        "from scipy import integrate"
      ],
      "metadata": {
        "id": "Pu6VTbB8kn2Q"
      },
      "execution_count": 91,
      "outputs": []
    },
    {
      "cell_type": "code",
      "source": [
        "# Define the function to integrate\n",
        "def f(x):\n",
        "    return x**2\n",
        "\n",
        "# Calculate the definite integral from 0 to 2\n",
        "result, error = integrate.quad(f, 0, 2)\n",
        "\n",
        "print(f\"Integral of x^2 from 0 to 2: {result:.4f}\")\n",
        "print(f\"Estimated absolute error: {error:.4e}\")"
      ],
      "metadata": {
        "colab": {
          "base_uri": "https://localhost:8080/"
        },
        "id": "qGKljL9tlOUJ",
        "outputId": "35ba62a7-7916-4078-f2bc-db8954395559"
      },
      "execution_count": 92,
      "outputs": [
        {
          "output_type": "stream",
          "name": "stdout",
          "text": [
            "Integral of x^2 from 0 to 2: 2.6667\n",
            "Estimated absolute error: 2.9606e-14\n"
          ]
        }
      ]
    },
    {
      "cell_type": "code",
      "source": [
        "# Exercise solution\n",
        "\n",
        "# Import libraries\n",
        "import numpy as np\n",
        "from scipy import integrate\n",
        "\n",
        "# Define the sine function\n",
        "def sine(x):\n",
        "  return np.sin(x)\n",
        "\n",
        "# Perform integration\n",
        "result, error = integrate.quad(sine, 0, np.pi/2)\n",
        "\n",
        "# Print results\n",
        "print(f\"Integral of sin(x) from 0 to pi/2: {result:.4f}\")\n",
        "print(f\"Estimated absolute error: {error:.4e}\")"
      ],
      "metadata": {
        "colab": {
          "base_uri": "https://localhost:8080/"
        },
        "id": "0q8U85ILogH2",
        "outputId": "b78db847-bd94-418b-d4cd-38c516fa644a"
      },
      "execution_count": 112,
      "outputs": [
        {
          "output_type": "stream",
          "name": "stdout",
          "text": [
            "Integral of sin(x) from 0 to pi/2: 1.0000\n",
            "Estimated absolute error: 1.1102e-14\n"
          ]
        }
      ]
    },
    {
      "cell_type": "markdown",
      "source": [
        "## Intro to Matplotlib"
      ],
      "metadata": {
        "id": "EU-aZWRhsCk6"
      }
    },
    {
      "cell_type": "code",
      "source": [
        "np.linspace(0, 2 * np.pi, 100)"
      ],
      "metadata": {
        "colab": {
          "base_uri": "https://localhost:8080/"
        },
        "id": "nvRu1GiHsgeV",
        "outputId": "723c3a5b-99ef-415d-97aa-0b10dc722a23"
      },
      "execution_count": 107,
      "outputs": [
        {
          "output_type": "execute_result",
          "data": {
            "text/plain": [
              "array([0.        , 0.06346652, 0.12693304, 0.19039955, 0.25386607,\n",
              "       0.31733259, 0.38079911, 0.44426563, 0.50773215, 0.57119866,\n",
              "       0.63466518, 0.6981317 , 0.76159822, 0.82506474, 0.88853126,\n",
              "       0.95199777, 1.01546429, 1.07893081, 1.14239733, 1.20586385,\n",
              "       1.26933037, 1.33279688, 1.3962634 , 1.45972992, 1.52319644,\n",
              "       1.58666296, 1.65012947, 1.71359599, 1.77706251, 1.84052903,\n",
              "       1.90399555, 1.96746207, 2.03092858, 2.0943951 , 2.15786162,\n",
              "       2.22132814, 2.28479466, 2.34826118, 2.41172769, 2.47519421,\n",
              "       2.53866073, 2.60212725, 2.66559377, 2.72906028, 2.7925268 ,\n",
              "       2.85599332, 2.91945984, 2.98292636, 3.04639288, 3.10985939,\n",
              "       3.17332591, 3.23679243, 3.30025895, 3.36372547, 3.42719199,\n",
              "       3.4906585 , 3.55412502, 3.61759154, 3.68105806, 3.74452458,\n",
              "       3.8079911 , 3.87145761, 3.93492413, 3.99839065, 4.06185717,\n",
              "       4.12532369, 4.1887902 , 4.25225672, 4.31572324, 4.37918976,\n",
              "       4.44265628, 4.5061228 , 4.56958931, 4.63305583, 4.69652235,\n",
              "       4.75998887, 4.82345539, 4.88692191, 4.95038842, 5.01385494,\n",
              "       5.07732146, 5.14078798, 5.2042545 , 5.26772102, 5.33118753,\n",
              "       5.39465405, 5.45812057, 5.52158709, 5.58505361, 5.64852012,\n",
              "       5.71198664, 5.77545316, 5.83891968, 5.9023862 , 5.96585272,\n",
              "       6.02931923, 6.09278575, 6.15625227, 6.21971879, 6.28318531])"
            ]
          },
          "metadata": {},
          "execution_count": 107
        }
      ]
    },
    {
      "cell_type": "code",
      "source": [
        "import matplotlib.pyplot as plt\n",
        "\n",
        "# Generate x values\n",
        "x = np.linspace(0, 2 * np.pi, 100) # 100 points from 0 to 2*pi\n",
        "\n",
        "# Calculate y values for sine and cosine\n",
        "y_sin = np.sin(x)\n",
        "y_cos = np.cos(x)\n",
        "\n",
        "# Create the plot\n",
        "plt.figure(figsize=(8, 5))\n",
        "plt.plot(x, y_sin, label='sin(x)', color='blue', linestyle='-')\n",
        "plt.plot(x, y_cos, label='cos(x)', color='red', linestyle='--')\n",
        "\n",
        "# # Add labels, title, and legend\n",
        "plt.xlabel(\"x\")\n",
        "plt.ylabel(\"y\")\n",
        "plt.title(\"Sine and Cosine Waves\")\n",
        "plt.legend()\n",
        "# plt.grid(True)\n",
        "plt.show()"
      ],
      "metadata": {
        "colab": {
          "base_uri": "https://localhost:8080/",
          "height": 487
        },
        "id": "KlSB1G5lsFCg",
        "outputId": "6a72df46-8312-456b-cc89-5597f6af2719"
      },
      "execution_count": 137,
      "outputs": [
        {
          "output_type": "display_data",
          "data": {
            "text/plain": [
              "<Figure size 800x500 with 1 Axes>"
            ],
            "image/png": "[encoded data removed]"
          },
          "metadata": {}
        }
      ]
    }
  ]
}
